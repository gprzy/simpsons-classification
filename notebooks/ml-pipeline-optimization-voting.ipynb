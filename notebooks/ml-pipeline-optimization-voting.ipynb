{
 "cells": [
  {
   "cell_type": "code",
   "execution_count": 1,
   "metadata": {},
   "outputs": [],
   "source": [
    "import pickle\n",
    "\n",
    "import sys\n",
    "sys.path.append('..')\n",
    "\n",
    "import random\n",
    "import numpy as np\n",
    "import pandas as pd\n",
    "\n",
    "import matplotlib.pyplot as plt\n",
    "\n",
    "from data_loader.load_data import ImagesLoader\n",
    "\n",
    "from sklearn.preprocessing import MinMaxScaler\n",
    "\n",
    "from sklearn.pipeline import Pipeline\n",
    "from sklearn.neighbors import KNeighborsClassifier\n",
    "from sklearn.naive_bayes import GaussianNB\n",
    "from sklearn.linear_model import LogisticRegression\n",
    "from sklearn.svm import LinearSVC, SVC\n",
    "from sklearn.neural_network import MLPClassifier\n",
    "\n",
    "from sklearn.ensemble import RandomForestClassifier, \\\n",
    "                             AdaBoostClassifier, \\\n",
    "                             ExtraTreesClassifier, \\\n",
    "                             StackingClassifier, \\\n",
    "                             VotingClassifier, \\\n",
    "                             BaggingClassifier\n",
    "\n",
    "from sklearn.dummy import DummyClassifier\n",
    "\n",
    "from xgboost import XGBClassifier\n",
    "from lightgbm import LGBMClassifier\n",
    "\n",
    "from sklearn.metrics import accuracy_score, \\\n",
    "                            f1_score, \\\n",
    "                            classification_report, \\\n",
    "                            confusion_matrix, \\\n",
    "                            ConfusionMatrixDisplay\n",
    "\n",
    "import scikitplot as skplt\n",
    "\n",
    "from skopt import gp_minimize\n",
    "from skopt.plots import plot_convergence\n",
    "\n",
    "import shap"
   ]
  },
  {
   "cell_type": "code",
   "execution_count": 2,
   "metadata": {},
   "outputs": [],
   "source": [
    "import warnings\n",
    "warnings.filterwarnings('ignore')\n",
    "\n",
    "pd.set_option('display.max_rows', 1000)"
   ]
  },
  {
   "cell_type": "code",
   "execution_count": null,
   "metadata": {},
   "outputs": [],
   "source": [
    "# melhores resultados preliminares\n",
    "\n",
    "# xgb; hsv+hu; f1=0.65\n",
    "# lgbm; hsv+lbp; f1=0.66\n",
    "# lsvc; hsv+lbp+hu; f1=0.65\n",
    "# lgbm; hsv+lbp+hu+hog; f1=0.68\n",
    "# xgb; hsv+lbp+hu+hog; f1=0.64\n",
    "# lsvc; rgb+hsv+lbp+hu; f1=0.64\n",
    "# xgb; rgb+hsv+lbp+hu+hog; f1=0.65\n",
    "# lgbm; hsv; f1=0.66\n",
    "# xgb; hsv; f1=0.64"
   ]
  },
  {
   "cell_type": "code",
   "execution_count": 3,
   "metadata": {},
   "outputs": [],
   "source": [
    "DATASET_NAME = 'simpsons-small-balanced'\n",
    "# DATASET_NAME = 'simpsons-medium'\n",
    "\n",
    "FIELDS = [\n",
    "    'combination_hsv+hu',\n",
    "    'combination_hsv+lbp',\n",
    "    'combination_hsv+lbp+hu',\n",
    "    'combination_hsv+lbp+hu+hog',\n",
    "    'combination_hsv+lbp+hu+hog',\n",
    "    'combination_rgb+hsv+lbp+hu',\n",
    "    'combination_rgb+hsv+lbp+hu+hog',\n",
    "    'descriptor_hsv',\n",
    "]"
   ]
  },
  {
   "cell_type": "markdown",
   "metadata": {},
   "source": [
    "# **CARREGANDO OS DADOS**"
   ]
  },
  {
   "cell_type": "code",
   "execution_count": 4,
   "metadata": {},
   "outputs": [],
   "source": [
    "loader = ImagesLoader(train_images_path=f'../data/{DATASET_NAME}/train/',\n",
    "                      test_images_path=f'../data/{DATASET_NAME}/test/')\n",
    "\n",
    "# data = loader.load_data()\n",
    "\n",
    "with open(f'../data/{DATASET_NAME}/{DATASET_NAME}.pkl', 'rb') as infile:\n",
    "    data = pickle.load(infile)"
   ]
  },
  {
   "cell_type": "code",
   "execution_count": 5,
   "metadata": {},
   "outputs": [
    {
     "name": "stdout",
     "output_type": "stream",
     "text": [
      "names_characters\n",
      "(324,) (95,)\n",
      "\n",
      "combination_hsv+hu shape = (324, 775) (95, 775)\n",
      "combination_hsv+lbp shape = (324, 778) (95, 778)\n",
      "combination_hsv+lbp+hu shape = (324, 785) (95, 785)\n",
      "combination_hsv+lbp+hu+hog shape = (324, 65081) (95, 65081)\n",
      "combination_hsv+lbp+hu+hog shape = (324, 65081) (95, 65081)\n",
      "combination_rgb+hsv+lbp+hu shape = (324, 1553) (95, 1553)\n",
      "combination_rgb+hsv+lbp+hu+hog shape = (324, 65849) (95, 65849)\n",
      "descriptor_hsv shape = (324, 768) (95, 768)\n"
     ]
    }
   ],
   "source": [
    "print('names_characters')\n",
    "print(np.array(data['names_characters']['train']).shape,\n",
    "      np.array(data['names_characters']['test']).shape, end='\\n\\n')\n",
    "\n",
    "for field in FIELDS:\n",
    "      print(f'{field} shape =',\n",
    "            np.array(data[field]['train']).shape,\n",
    "            np.array(data[field]['test']).shape)"
   ]
  },
  {
   "cell_type": "code",
   "execution_count": 6,
   "metadata": {},
   "outputs": [
    {
     "name": "stdout",
     "output_type": "stream",
     "text": [
      "bart = 81\n",
      "homer = 80\n",
      "lisa = 75\n",
      "marge = 59\n",
      "maggie = 29\n"
     ]
    }
   ],
   "source": [
    "print('bart =', data['names_characters']['train'].tolist().count('bart'))\n",
    "print('homer =', data['names_characters']['train'].tolist().count('homer'))\n",
    "print('lisa =', data['names_characters']['train'].tolist().count('lisa'))\n",
    "print('marge =', data['names_characters']['train'].tolist().count('marge'))\n",
    "print('maggie =', data['names_characters']['train'].tolist().count('maggie'))"
   ]
  },
  {
   "cell_type": "markdown",
   "metadata": {},
   "source": [
    "# **TRAIN-TEST SPLIT**"
   ]
  },
  {
   "cell_type": "code",
   "execution_count": 5,
   "metadata": {},
   "outputs": [
    {
     "data": {
      "text/plain": [
       "((324,), (95,))"
      ]
     },
     "execution_count": 5,
     "metadata": {},
     "output_type": "execute_result"
    }
   ],
   "source": [
    "y_train = np.array(data['names_encoded']['train'])\n",
    "y_test = np.array(data['names_encoded']['test'])\n",
    "\n",
    "y_train.shape, y_test.shape"
   ]
  },
  {
   "cell_type": "markdown",
   "metadata": {},
   "source": [
    "# **SETUP**"
   ]
  },
  {
   "cell_type": "code",
   "execution_count": 6,
   "metadata": {},
   "outputs": [],
   "source": [
    "def plot_summary(field, clf):\n",
    "    print(field)\n",
    "\n",
    "    X_train = data[field]['train']\n",
    "    X_test = data[field]['test']\n",
    "\n",
    "    clf.fit(X_train, y_train)\n",
    "    y_pred = clf.predict(X_test)\n",
    "    \n",
    "    # print(classification_report(y_test, y_pred))\n",
    "\n",
    "    cm = confusion_matrix(y_test, y_pred)\n",
    "    cm_plot = ConfusionMatrixDisplay(cm, display_labels=loader.labels)\n",
    "    cm_plot.plot(cmap='viridis_r');\n",
    "\n",
    "    plt.title(f\"{field};\\n accuracy = \" \\\n",
    "            f\"{round(accuracy_score(y_test, y_pred), 2)}; \" \\\n",
    "            f\"weight f1 = \" \\\n",
    "            f\"{round(f1_score(y_test, y_pred, average='weighted'), 2)}\");\n",
    "\n",
    "    plt.show();"
   ]
  },
  {
   "cell_type": "code",
   "execution_count": 10,
   "metadata": {},
   "outputs": [],
   "source": [
    "estimators = [\n",
    "    ('lsvc', LinearSVC(random_state=42)),\n",
    "    ('mlp', MLPClassifier(random_state=42)),\n",
    "    ('lr', LogisticRegression(random_state=42)),\n",
    "    ('xgb', XGBClassifier(random_state=42)),\n",
    "    ('lgbm', LGBMClassifier(random_state=42))\n",
    "]"
   ]
  },
  {
   "cell_type": "markdown",
   "metadata": {},
   "source": [
    "# **TREINO E TESTE DOS MODELOS**"
   ]
  },
  {
   "cell_type": "code",
   "execution_count": null,
   "metadata": {},
   "outputs": [],
   "source": [
    "estimators_fields = [\n",
    "    ('xgb', 'combination_hsv+hu', XGBClassifier(random_state=42)),\n",
    "    ('lgbm', 'combination_hsv+lbp', LGBMClassifier(random_state=42)),\n",
    "    ('lsvc', 'combination_hsv+lbp+hu', LinearSVC(random_state=42)),\n",
    "    ('lgbm', 'combination_hsv+lbp+hu+hog', LGBMClassifier(random_state=42)),\n",
    "    ('xgb', 'combination_hsv+lbp+hu+hog', XGBClassifier(random_state=42)),\n",
    "    ('lsvc', 'combination_rgb+hsv+lbp+hu', LinearSVC(random_state=42)),\n",
    "    ('xgb', 'combination_rgb+hsv+lbp+hu+hog', XGBClassifier(random_state=42)),\n",
    "    ('lgbm', 'descriptor_hsv', LGBMClassifier(random_state=42)),\n",
    "    ('xgb', 'descriptor_hsv', XGBClassifier(random_state=42))\n",
    "]\n",
    "\n",
    "# predições\n",
    "preds = {estimator[0] + '_' + estimator[1]: [] for estimator in estimators_fields}\n",
    "\n",
    "for estimator in estimators_fields:\n",
    "    estimator_name = estimator[0]\n",
    "    field = estimator[1]\n",
    "    model = estimator[2]\n",
    "\n",
    "    X_train = np.array(data[field]['train'])\n",
    "    X_test = np.array(data[field]['test'])\n",
    "\n",
    "    model.fit(X_train, y_train)\n",
    "    y_pred = model.predict(X_test)\n",
    "\n",
    "    preds[estimator_name + '_' + field] = y_pred\n",
    "\n",
    "    print(f'{estimator_name}_{field}', 'completed')"
   ]
  },
  {
   "cell_type": "code",
   "execution_count": null,
   "metadata": {},
   "outputs": [],
   "source": [
    "for model, pred in zip(list(preds.keys()), list(preds.values())):\n",
    "    f1 = f1_score(y_test, pred, average='weighted')\n",
    "    print(model, '=', f1)"
   ]
  },
  {
   "cell_type": "markdown",
   "metadata": {},
   "source": [
    "# **OTIMIZAÇÕES**"
   ]
  },
  {
   "cell_type": "code",
   "execution_count": 113,
   "metadata": {},
   "outputs": [],
   "source": [
    "# xgb; hsv+hu; f1=0.65\n",
    "# lgbm; hsv+lbp; f1=0.66\n",
    "# lsvc; hsv+lbp+hu; f1=0.65\n",
    "# lsvc; rgb+hsv+lbp+hu; f1=0.64\n",
    "# lgbm; hsv; f1=0.66\n",
    "# xgb; hsv; f1=0.64"
   ]
  },
  {
   "cell_type": "code",
   "execution_count": 7,
   "metadata": {},
   "outputs": [
    {
     "name": "stdout",
     "output_type": "stream",
     "text": [
      "[0.1, 2, 1, 0.7924528621169169, 0.6520396059262403]\n",
      "0.7274180734856007\n"
     ]
    },
    {
     "data": {
      "image/png": "[encoded data removed]",
      "text/plain": [
       "<Figure size 432x288 with 1 Axes>"
      ]
     },
     "metadata": {
      "needs_background": "light"
     },
     "output_type": "display_data"
    }
   ],
   "source": [
    "# xgb; hsv+hu; f1=0.65\n",
    "\n",
    "X_train = data['combination_hsv+hu']['train']\n",
    "X_test = data['combination_hsv+hu']['test']\n",
    "\n",
    "def train_model(params):\n",
    "    clf = XGBClassifier(\n",
    "        eta=params[0],\n",
    "        max_depth=params[1],\n",
    "        min_child_weight=params[2],\n",
    "        subsample=params[3],\n",
    "        colsample_bytree=params[4],\n",
    "        random_state=42,\n",
    "        n_estimators=100\n",
    "    )\n",
    "\n",
    "    clf.fit(X_train, y_train)\n",
    "    y_pred = clf.predict(X_test)\n",
    "    f1 = f1_score(y_test, y_pred, average='weighted')\n",
    "\n",
    "    return -f1\n",
    "\n",
    "space = [\n",
    "    [1e-3, 1e-1],  # learning rate\n",
    "    [2, 128],      # max_depth\n",
    "    [1, 100],      # min_child_weight\n",
    "    [.05, 1.0],    # subsample\n",
    "    [.1, 1.0]      # colsample_bytree\n",
    "]\n",
    "\n",
    "# gaussian process optimization\n",
    "result = gp_minimize(\n",
    "    train_model,\n",
    "    space,\n",
    "    random_state=42,\n",
    "    verbose=0,\n",
    "    n_calls=300,\n",
    "    n_random_starts=10\n",
    ")\n",
    "\n",
    "print(result.x)\n",
    "print(abs(result.fun))\n",
    "\n",
    "plot_convergence(result);"
   ]
  },
  {
   "cell_type": "code",
   "execution_count": 9,
   "metadata": {},
   "outputs": [
    {
     "name": "stdout",
     "output_type": "stream",
     "text": [
      "[0.05899095873140777, 20, 47, 0.6239620710856534, 0.631625594571926]\n",
      "0.6806905139956135\n"
     ]
    },
    {
     "data": {
      "image/png": "[encoded data removed]",
      "text/plain": [
       "<Figure size 432x288 with 1 Axes>"
      ]
     },
     "metadata": {
      "needs_background": "light"
     },
     "output_type": "display_data"
    }
   ],
   "source": [
    "# lgbm; hsv+lbp; f1=0.66\n",
    "\n",
    "X_train = data['combination_hsv+lbp']['train']\n",
    "X_test = data['combination_hsv+lbp']['test']\n",
    "\n",
    "def train_model(params):\n",
    "    clf = LGBMClassifier(\n",
    "        learning_rate=params[0],\n",
    "        num_leaves=params[1],\n",
    "        min_child_samples=params[2],\n",
    "        subsample=params[3],\n",
    "        colsample_bytree=params[4],\n",
    "        random_state=42,\n",
    "        subsample_freq=1,\n",
    "        n_estimators=100\n",
    "    )\n",
    "\n",
    "    clf.fit(X_train, y_train)\n",
    "    y_pred = clf.predict(X_test)\n",
    "    f1 = f1_score(y_test, y_pred, average='weighted')\n",
    "\n",
    "    return -f1\n",
    "\n",
    "space = [\n",
    "    [1e-3, 1e-1],  # learning rate\n",
    "    [2, 128],      # num_leaves\n",
    "    [1, 100],      # min_child_samples\n",
    "    [.05, 1.0],    # subsample\n",
    "    [.1, 1.0]      # colsample_bytree\n",
    "]\n",
    "\n",
    "# gaussian process optimization\n",
    "result = gp_minimize(\n",
    "    train_model,\n",
    "    space,\n",
    "    random_state=42,\n",
    "    verbose=0,\n",
    "    n_calls=100,\n",
    "    n_random_starts=10\n",
    ")\n",
    "\n",
    "print(result.x)\n",
    "print(abs(result.fun))\n",
    "\n",
    "plot_convergence(result);"
   ]
  },
  {
   "cell_type": "markdown",
   "metadata": {},
   "source": [
    "# **VOTING DE CLASSIFICADORES JÁ TREINADOS**"
   ]
  },
  {
   "cell_type": "code",
   "execution_count": 19,
   "metadata": {},
   "outputs": [
    {
     "data": {
      "text/plain": [
       "array([0, 0, 0, 0, 0, 0, 0, 0, 0, 0, 0, 0, 0, 0, 0, 0, 0, 0, 0, 0, 0, 0,\n",
       "       0, 0, 0, 0, 0, 0, 0, 0, 0, 0, 0, 0, 0, 0, 0, 1, 1, 1, 1, 1, 4, 1,\n",
       "       1, 1, 1, 1, 0, 1, 1, 1, 1, 1, 1, 1, 1, 1, 1, 1, 1, 2, 0, 0, 0, 1,\n",
       "       0, 0, 0, 1, 0, 0, 0, 4, 4, 4, 4, 1, 4, 0, 4, 4, 4, 0, 0, 2, 0, 3,\n",
       "       3, 3, 1, 0, 0, 3, 0], dtype=int64)"
      ]
     },
     "execution_count": 19,
     "metadata": {},
     "output_type": "execute_result"
    }
   ],
   "source": [
    "y_pred = voting(args=list(preds.values()),\n",
    "                weights=[1,1,1,1,1,1,1,1,1])\n",
    "\n",
    "y_pred"
   ]
  },
  {
   "cell_type": "code",
   "execution_count": 20,
   "metadata": {},
   "outputs": [
    {
     "name": "stdout",
     "output_type": "stream",
     "text": [
      "              precision    recall  f1-score   support\n",
      "\n",
      "           0       0.65      1.00      0.79        35\n",
      "           1       0.81      0.84      0.82        25\n",
      "           2       0.50      0.08      0.13        13\n",
      "           3       1.00      0.40      0.57        10\n",
      "           4       0.89      0.67      0.76        12\n",
      "\n",
      "    accuracy                           0.73        95\n",
      "   macro avg       0.77      0.60      0.62        95\n",
      "weighted avg       0.74      0.73      0.68        95\n",
      "\n"
     ]
    }
   ],
   "source": [
    "print(classification_report(y_test, y_pred))"
   ]
  },
  {
   "cell_type": "markdown",
   "metadata": {},
   "source": [
    "# **VOTING DE STACKS JÁ TREINADAS**"
   ]
  },
  {
   "cell_type": "code",
   "execution_count": 11,
   "metadata": {},
   "outputs": [
    {
     "name": "stdout",
     "output_type": "stream",
     "text": [
      "stack combination_hsv+hu completed\n",
      "stack combination_hsv+lbp+hu completed\n",
      "stack descriptor_hsv completed\n"
     ]
    }
   ],
   "source": [
    "# dados de treino para cada stack\n",
    "fields = [\n",
    "    'combination_hsv+hu',\n",
    "    'combination_hsv+lbp+hu',\n",
    "    'descriptor_hsv'\n",
    "]\n",
    "\n",
    "final_estimators = [\n",
    "    XGBClassifier(random_state=42),\n",
    "    LinearSVC(random_state=42),\n",
    "    LGBMClassifier(random_state=42)\n",
    "]\n",
    "\n",
    "preds = {}\n",
    "\n",
    "for i in range(len(fields)):\n",
    "    stack = StackingClassifier(estimators=estimators,\n",
    "                               final_estimator=final_estimators[i],\n",
    "                               stack_method='auto',\n",
    "                               verbose=0)\n",
    "\n",
    "    X_train = np.array(data[fields[i]]['train'])\n",
    "    X_test = np.array(data[fields[i]]['test'])\n",
    "\n",
    "    stack.fit(X_train, y_train)\n",
    "    y_pred = stack.predict(X_test)\n",
    "\n",
    "    preds[fields[i]] = y_pred\n",
    "    print(f'stack {fields[i]} completed')"
   ]
  },
  {
   "cell_type": "code",
   "execution_count": 14,
   "metadata": {},
   "outputs": [
    {
     "name": "stdout",
     "output_type": "stream",
     "text": [
      "              precision    recall  f1-score   support\n",
      "\n",
      "           0       0.73      0.94      0.83        35\n",
      "           1       0.78      0.84      0.81        25\n",
      "           2       0.86      0.46      0.60        13\n",
      "           3       0.75      0.60      0.67        10\n",
      "           4       1.00      0.67      0.80        12\n",
      "\n",
      "    accuracy                           0.78        95\n",
      "   macro avg       0.82      0.70      0.74        95\n",
      "weighted avg       0.80      0.78      0.77        95\n",
      "\n"
     ]
    },
    {
     "data": {
      "image/png": "[encoded data removed]",
      "text/plain": [
       "<Figure size 432x288 with 2 Axes>"
      ]
     },
     "metadata": {
      "needs_background": "light"
     },
     "output_type": "display_data"
    }
   ],
   "source": [
    "y_pred = voting(args=list(preds.values()),\n",
    "                weights=[3,1,2])\n",
    "\n",
    "print(classification_report(y_test, y_pred))\n",
    "\n",
    "skplt.metrics.plot_confusion_matrix(\n",
    "    y_test, y_pred, cmap='viridis_r',\n",
    ");"
   ]
  },
  {
   "cell_type": "code",
   "execution_count": 19,
   "metadata": {},
   "outputs": [
    {
     "name": "stdout",
     "output_type": "stream",
     "text": [
      "              precision    recall  f1-score   support\n",
      "\n",
      "           0       0.78      0.91      0.84        35\n",
      "           1       0.81      0.84      0.82        25\n",
      "           2       0.86      0.46      0.60        13\n",
      "           3       0.82      0.90      0.86        10\n",
      "           4       0.90      0.75      0.82        12\n",
      "\n",
      "    accuracy                           0.81        95\n",
      "   macro avg       0.83      0.77      0.79        95\n",
      "weighted avg       0.82      0.81      0.80        95\n",
      "\n"
     ]
    },
    {
     "data": {
      "image/png": "[encoded data removed]",
      "text/plain": [
       "<Figure size 432x288 with 2 Axes>"
      ]
     },
     "metadata": {
      "needs_background": "light"
     },
     "output_type": "display_data"
    }
   ],
   "source": [
    "y_pred = voting(args=list(preds.values()),\n",
    "                weights=[[1,1,1],\n",
    "                         [1,1,1],\n",
    "                         [1,1,1],\n",
    "                         [3,3,3],\n",
    "                         [4,4,4],])\n",
    "\n",
    "print(classification_report(y_test, y_pred))\n",
    "\n",
    "skplt.metrics.plot_confusion_matrix(\n",
    "    y_test, y_pred, cmap='viridis_r',\n",
    ");"
   ]
  },
  {
   "cell_type": "code",
   "execution_count": 16,
   "metadata": {},
   "outputs": [
    {
     "name": "stdout",
     "output_type": "stream",
     "text": [
      "0.8016817857065534\n",
      "[[1, 1, 1], [1, 1, 3], [2, 3, 2], [1, 1, 3], [2, 2, 1]]\n"
     ]
    }
   ],
   "source": [
    "random_weights = []\n",
    "weighted_f1 = []\n",
    "\n",
    "for i in range(10000):\n",
    "\n",
    "    weights = [[random.randint(1,3) for i in range(3)] for i in range(5)]\n",
    "\n",
    "    y_pred = voting(args=list(preds.values()),\n",
    "                    weights=weights)\n",
    "\n",
    "    weighted_f1.append(\n",
    "        f1_score(y_test, y_pred, average='weighted')\n",
    "    )\n",
    "\n",
    "    random_weights.append(weights)\n",
    "\n",
    "idx = np.argmax(weighted_f1)\n",
    "\n",
    "print(weighted_f1[idx])\n",
    "print(np.array(random_weights[idx]))"
   ]
  },
  {
   "cell_type": "code",
   "execution_count": 18,
   "metadata": {},
   "outputs": [
    {
     "name": "stdout",
     "output_type": "stream",
     "text": [
      "              precision    recall  f1-score   support\n",
      "\n",
      "           0       0.77      0.94      0.85        35\n",
      "           1       0.77      0.92      0.84        25\n",
      "           2       0.86      0.46      0.60        13\n",
      "           3       1.00      0.70      0.82        10\n",
      "           4       1.00      0.67      0.80        12\n",
      "\n",
      "    accuracy                           0.81        95\n",
      "   macro avg       0.88      0.74      0.78        95\n",
      "weighted avg       0.83      0.81      0.80        95\n",
      "\n"
     ]
    },
    {
     "data": {
      "image/png": "[encoded data removed]",
      "text/plain": [
       "<Figure size 432x288 with 2 Axes>"
      ]
     },
     "metadata": {
      "needs_background": "light"
     },
     "output_type": "display_data"
    }
   ],
   "source": [
    "y_pred = voting(args=list(preds.values()),\n",
    "                weights=random_weights[idx])\n",
    "\n",
    "print(classification_report(y_test, y_pred))\n",
    "\n",
    "skplt.metrics.plot_confusion_matrix(\n",
    "    y_test, y_pred, cmap='viridis_r',\n",
    ");"
   ]
  },
  {
   "cell_type": "markdown",
   "metadata": {},
   "source": [
    "# **EXPLICABILIDADE (SHAP)**"
   ]
  },
  {
   "cell_type": "code",
   "execution_count": 28,
   "metadata": {},
   "outputs": [
    {
     "name": "stdout",
     "output_type": "stream",
     "text": [
      "              precision    recall  f1-score   support\n",
      "\n",
      "           0       0.61      0.97      0.75        35\n",
      "           1       0.72      0.84      0.78        25\n",
      "           2       1.00      0.08      0.14        13\n",
      "           3       1.00      0.40      0.57        10\n",
      "           4       1.00      0.42      0.59        12\n",
      "\n",
      "    accuracy                           0.68        95\n",
      "   macro avg       0.87      0.54      0.57        95\n",
      "weighted avg       0.78      0.68      0.63        95\n",
      "\n"
     ]
    },
    {
     "data": {
      "image/png": "[encoded data removed]",
      "text/plain": [
       "<Figure size 432x288 with 2 Axes>"
      ]
     },
     "metadata": {
      "needs_background": "light"
     },
     "output_type": "display_data"
    }
   ],
   "source": [
    "clf = LGBMClassifier()\n",
    "\n",
    "X_train = np.array(data['combination_hsv+lbp+hu']['train'])\n",
    "X_test = np.array(data['combination_hsv+lbp+hu']['test'])\n",
    "\n",
    "clf.fit(X_train, y_train)\n",
    "y_pred = clf.predict(X_test)\n",
    "\n",
    "print(classification_report(y_test, y_pred))\n",
    "\n",
    "skplt.metrics.plot_confusion_matrix(\n",
    "    y_test, y_pred, cmap='viridis_r',\n",
    ");"
   ]
  },
  {
   "cell_type": "code",
   "execution_count": 31,
   "metadata": {},
   "outputs": [],
   "source": [
    "explainer = shap.TreeExplainer(model=clf)\n",
    "shap_values = explainer.shap_values(X_train)"
   ]
  },
  {
   "cell_type": "code",
   "execution_count": 36,
   "metadata": {},
   "outputs": [
    {
     "data": {
      "image/png": "[encoded data removed]",
      "text/plain": [
       "<Figure size 576x684 with 1 Axes>"
      ]
     },
     "metadata": {
      "needs_background": "light"
     },
     "output_type": "display_data"
    }
   ],
   "source": [
    "shap.summary_plot(shap_values=shap_values, features=X_train);"
   ]
  }
 ],
 "metadata": {
  "kernelspec": {
   "display_name": "Python 3.9.7 ('base')",
   "language": "python",
   "name": "python3"
  },
  "language_info": {
   "codemirror_mode": {
    "name": "ipython",
    "version": 3
   },
   "file_extension": ".py",
   "mimetype": "text/x-python",
   "name": "python",
   "nbconvert_exporter": "python",
   "pygments_lexer": "ipython3",
   "version": "3.9.7"
  },
  "orig_nbformat": 4,
  "vscode": {
   "interpreter": {
    "hash": "30f07e33239fa8282e26e15725321d07a8b0c67c5d45bbf6a7e3668dfd7ffdbf"
   }
  }
 },
 "nbformat": 4,
 "nbformat_minor": 2
}
