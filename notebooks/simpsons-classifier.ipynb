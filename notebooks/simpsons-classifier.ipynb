{
 "cells": [
  {
   "cell_type": "code",
   "execution_count": 1,
   "metadata": {},
   "outputs": [],
   "source": [
    "import os\n",
    "import sys\n",
    "sys.path.append('..')\n",
    "\n",
    "import numpy as np\n",
    "\n",
    "from data_loader.load_data import ImagesLoader\n",
    "from data_loader.colors import Colors\n",
    "from simpsons_classifier import SimpsonsClassifier\n",
    "from voter import Voter as vote\n",
    "from challenge.simpsons import *\n",
    "import load_stacking_models as stack\n",
    "\n",
    "from sklearn.metrics import classification_report, \\\n",
    "                            confusion_matrix, \\\n",
    "                            ConfusionMatrixDisplay"
   ]
  },
  {
   "cell_type": "code",
   "execution_count": 2,
   "metadata": {},
   "outputs": [],
   "source": [
    "import warnings\n",
    "warnings.filterwarnings('ignore')"
   ]
  },
  {
   "cell_type": "code",
   "execution_count": 19,
   "metadata": {},
   "outputs": [
    {
     "name": "stdout",
     "output_type": "stream",
     "text": [
      "3.9.7 (default, Sep 16 2021, 16:59:28) [MSC v.1916 64 bit (AMD64)]\n",
      "sys.version_info(major=3, minor=9, micro=7, releaselevel='final', serial=0)\n"
     ]
    }
   ],
   "source": [
    "print(sys.version)\n",
    "print(sys.version_info)"
   ]
  },
  {
   "cell_type": "code",
   "execution_count": 3,
   "metadata": {},
   "outputs": [],
   "source": [
    "# selecionando os dados desejados\n",
    "\n",
    "DATASET_NAME = 'simpsons-small-balanced'\n",
    "\n",
    "FIELDS = [\n",
    "    'images_hsv',\n",
    "    'images_h',\n",
    "    'images_s',\n",
    "    'images_v',\n",
    "    'descriptor_h',\n",
    "    'descriptor_s',\n",
    "    'descriptor_v',\n",
    "    'descriptor_hsv',\n",
    "    'descriptor_hu',\n",
    "    'descriptor_lbp',\n",
    "    'combination_hsv+hu',\n",
    "    'combination_hsv+lbp+hu'\n",
    "]"
   ]
  },
  {
   "cell_type": "code",
   "execution_count": 4,
   "metadata": {},
   "outputs": [
    {
     "name": "stdout",
     "output_type": "stream",
     "text": [
      "\u001b[92m+\u001b[0m 'names_files' loaded\n",
      "\u001b[92m+\u001b[0m 'names_paths' loaded\n",
      "\u001b[92m+\u001b[0m 'names_characters' loaded\n",
      "\u001b[92m+\u001b[0m 'names_encoded' loaded\n",
      "\u001b[92m+\u001b[0m 'images_original' loaded\n",
      "\u001b[92m+\u001b[0m 'images_resized' loaded\n",
      "\u001b[92m+\u001b[0m 'images_gray' loaded\n",
      "\u001b[91m-\u001b[0m 'images_blue' not in load list\n",
      "\u001b[91m-\u001b[0m 'images_green' not in load list\n",
      "\u001b[91m-\u001b[0m 'images_red' not in load list\n",
      "\u001b[92m+\u001b[0m 'images_hsv' loaded\n",
      "\u001b[92m+\u001b[0m 'images_h' loaded\n",
      "\u001b[92m+\u001b[0m 'images_s' loaded\n",
      "\u001b[92m+\u001b[0m 'images_v' loaded\n",
      "\u001b[91m-\u001b[0m 'images_lbp' not in load list\n",
      "\u001b[91m-\u001b[0m 'images_hu' not in load list\n",
      "\u001b[91m-\u001b[0m 'images_gabor' not in load list\n",
      "\u001b[91m-\u001b[0m 'images_hog' not in load list\n",
      "\u001b[91m-\u001b[0m 'descriptor_blue' not in load list\n",
      "\u001b[91m-\u001b[0m 'descriptor_green' not in load list\n",
      "\u001b[91m-\u001b[0m 'descriptor_red' not in load list\n",
      "\u001b[91m-\u001b[0m 'descriptor_rgb' not in load list\n",
      "\u001b[92m+\u001b[0m 'descriptor_h' loaded\n",
      "\u001b[92m+\u001b[0m 'descriptor_s' loaded\n",
      "\u001b[92m+\u001b[0m 'descriptor_v' loaded\n",
      "\u001b[92m+\u001b[0m 'descriptor_hsv' loaded\n",
      "\u001b[92m+\u001b[0m 'descriptor_lbp' loaded\n",
      "\u001b[92m+\u001b[0m 'descriptor_hu' loaded\n",
      "\u001b[91m-\u001b[0m 'descriptor_gabor' not in load list\n",
      "\u001b[91m-\u001b[0m 'descriptor_hog' not in load list\n",
      "\u001b[91m-\u001b[0m 'combination_rgb+hsv' not in load list\n",
      "\u001b[91m-\u001b[0m 'combination_rgb+hsv+lbp' not in load list\n",
      "\u001b[91m-\u001b[0m 'combination_rgb+hsv+hu' not in load list\n",
      "\u001b[91m-\u001b[0m 'combination_rgb+hsv+hog' not in load list\n",
      "\u001b[91m-\u001b[0m 'combination_rgb+hsv+lbp+hu' not in load list\n",
      "\u001b[91m-\u001b[0m 'combination_rgb+hsv+lbp+hog' not in load list\n",
      "\u001b[91m-\u001b[0m 'combination_rgb+hsv+hu+hog' not in load list\n",
      "\u001b[91m-\u001b[0m 'combination_rgb+hsv+lbp+hu+hog' not in load list\n",
      "\u001b[91m-\u001b[0m 'combination_rgb+lbp' not in load list\n",
      "\u001b[91m-\u001b[0m 'combination_rgb+hu' not in load list\n",
      "\u001b[91m-\u001b[0m 'combination_rgb+hog' not in load list\n",
      "\u001b[91m-\u001b[0m 'combination_rgb+lbp+hu' not in load list\n",
      "\u001b[91m-\u001b[0m 'combination_rgb+lbp+hog' not in load list\n",
      "\u001b[91m-\u001b[0m 'combination_rgb+hu+hog' not in load list\n",
      "\u001b[91m-\u001b[0m 'combination_rgb+lbp+hu+hog' not in load list\n",
      "\u001b[91m-\u001b[0m 'combination_hsv+lbp' not in load list\n",
      "\u001b[92m+\u001b[0m 'combination_hsv+hu' loaded\n",
      "\u001b[91m-\u001b[0m 'combination_hsv+hog' not in load list\n",
      "\u001b[92m+\u001b[0m 'combination_hsv+lbp+hu' loaded\n",
      "\u001b[91m-\u001b[0m 'combination_hsv+lbp+hog' not in load list\n",
      "\u001b[91m-\u001b[0m 'combination_hsv+hu+hog' not in load list\n",
      "\u001b[91m-\u001b[0m 'combination_hsv+lbp+hu+hog' not in load list\n"
     ]
    }
   ],
   "source": [
    "# carregando os dados\n",
    "\n",
    "loader = ImagesLoader(train_images_path=f'../data/{DATASET_NAME}/train/',\n",
    "                      test_images_path=f'../data/{DATASET_NAME}/test/')\n",
    "\n",
    "data = loader.load_data(load_list=FIELDS)"
   ]
  },
  {
   "cell_type": "code",
   "execution_count": 5,
   "metadata": {},
   "outputs": [
    {
     "name": "stdout",
     "output_type": "stream",
     "text": [
      "names_characters\n",
      "(324,) (95,)\n",
      "\n",
      "descriptor_lbp shape = (324, 10) (95, 10)\n",
      "combination_hsv+hu shape = (324, 775) (95, 775)\n",
      "combination_hsv+lbp+hu shape = (324, 785) (95, 785)\n"
     ]
    }
   ],
   "source": [
    "# shape dos dados\n",
    "\n",
    "print('names_characters')\n",
    "print(np.array(data['names_characters']['train']).shape,\n",
    "      np.array(data['names_characters']['test']).shape, end='\\n\\n')\n",
    "\n",
    "for field in ['descriptor_lbp',\n",
    "              'combination_hsv+hu',\n",
    "              'combination_hsv+lbp+hu']:\n",
    "      print(f'{field} shape =',\n",
    "            np.array(data[field]['train']).shape,\n",
    "            np.array(data[field]['test']).shape)"
   ]
  },
  {
   "cell_type": "code",
   "execution_count": 6,
   "metadata": {},
   "outputs": [
    {
     "name": "stdout",
     "output_type": "stream",
     "text": [
      "(324,) (324,)\n",
      "(95,) (95,)\n"
     ]
    }
   ],
   "source": [
    "# os arquivos carregados pela função 'load_data'\n",
    "# são os mesmos de 'train.txt' e 'test.txt'?\n",
    "\n",
    "# carregando os dados dos txts\n",
    "\n",
    "X_train_files, y_train_files = load_train_data('../challenge/train.txt')\n",
    "X_test_files, y_test_files = load_test_data('../challenge/test.txt')\n",
    "\n",
    "print(X_train_files.shape, y_train_files.shape)\n",
    "print(X_test_files.shape, y_test_files.shape)"
   ]
  },
  {
   "cell_type": "code",
   "execution_count": 7,
   "metadata": {},
   "outputs": [
    {
     "data": {
      "text/plain": [
       "array(['../data/simpsons-small-balanced/train/bart0007.jpg',\n",
       "       '../data/simpsons-small-balanced/train/bart001.bmp',\n",
       "       '../data/simpsons-small-balanced/train/bart0012.jpg',\n",
       "       '../data/simpsons-small-balanced/train/bart002.bmp',\n",
       "       '../data/simpsons-small-balanced/train/bart0022.jpg'], dtype='<U51')"
      ]
     },
     "execution_count": 7,
     "metadata": {},
     "output_type": "execute_result"
    }
   ],
   "source": [
    "X_train_files[:5]"
   ]
  },
  {
   "cell_type": "code",
   "execution_count": 8,
   "metadata": {},
   "outputs": [
    {
     "data": {
      "text/plain": [
       "array([0, 0, 0, 0, 0])"
      ]
     },
     "execution_count": 8,
     "metadata": {},
     "output_type": "execute_result"
    }
   ],
   "source": [
    "y_train_files[:5]"
   ]
  },
  {
   "cell_type": "code",
   "execution_count": 9,
   "metadata": {},
   "outputs": [
    {
     "name": "stdout",
     "output_type": "stream",
     "text": [
      "True\n",
      "True\n",
      "True\n",
      "True\n"
     ]
    }
   ],
   "source": [
    "# os dados carregados dos arquivos são iguais aos\n",
    "# carregados pela função\n",
    "\n",
    "print(all(data['names_paths']['train'] == X_train_files))\n",
    "print(all(data['names_paths']['test'] == X_test_files))\n",
    "\n",
    "print(all(data['names_encoded']['train'] == y_train_files))\n",
    "print(all(data['names_encoded']['test'] == y_test_files))"
   ]
  },
  {
   "cell_type": "code",
   "execution_count": 33,
   "metadata": {},
   "outputs": [],
   "source": [
    "# existe alguma imagem de teste em treino?\n",
    "\n",
    "for train_img in data['images_gray']['train']:\n",
    "    for test_img in data['images_gray']['test']:\n",
    "        if all(train_img.ravel() == test_img.ravel()):\n",
    "            print(train_img)"
   ]
  },
  {
   "cell_type": "code",
   "execution_count": 10,
   "metadata": {},
   "outputs": [],
   "source": [
    "# train-test split\n",
    "\n",
    "X_train = [\n",
    "    data['combination_hsv+hu']['train'],\n",
    "    data['combination_hsv+lbp+hu']['train'],\n",
    "    data['descriptor_hsv']['train'],\n",
    "]\n",
    "\n",
    "y_train = data['names_encoded']['train']\n",
    "\n",
    "X_test = [\n",
    "    data['combination_hsv+hu']['test'],\n",
    "    data['combination_hsv+lbp+hu']['test'],\n",
    "    data['descriptor_hsv']['test'],\n",
    "]\n",
    "\n",
    "y_test = data['names_encoded']['test']"
   ]
  },
  {
   "cell_type": "code",
   "execution_count": 11,
   "metadata": {},
   "outputs": [
    {
     "data": {
      "text/plain": [
       "['combination_hsv+hu', 'combination_hsv+lbp+hu', 'descriptor_hsv']"
      ]
     },
     "execution_count": 11,
     "metadata": {},
     "output_type": "execute_result"
    }
   ],
   "source": [
    "# carregando modelos instanciados\n",
    "\n",
    "stacks = stack.load_stacking_models(load_type='memory')\n",
    "\n",
    "# cada campo representa uma stack\n",
    "list(stacks.keys())"
   ]
  },
  {
   "cell_type": "code",
   "execution_count": 12,
   "metadata": {},
   "outputs": [],
   "source": [
    "# criação e treinamento do modelo\n",
    "\n",
    "simp = SimpsonsClassifier(stack_models=stacks)\n",
    "simp.fit(X_train, y_train)\n",
    "preds = simp.predict(X_test)"
   ]
  },
  {
   "cell_type": "code",
   "execution_count": 13,
   "metadata": {},
   "outputs": [
    {
     "data": {
      "text/plain": [
       "['combination_hsv+hu', 'combination_hsv+lbp+hu', 'descriptor_hsv']"
      ]
     },
     "execution_count": 13,
     "metadata": {},
     "output_type": "execute_result"
    }
   ],
   "source": [
    "# predições do modelo; cada campo\n",
    "# representa as predições de uma stack\n",
    "\n",
    "list(preds.keys())"
   ]
  },
  {
   "cell_type": "code",
   "execution_count": 14,
   "metadata": {},
   "outputs": [
    {
     "data": {
      "text/plain": [
       "array([3, 0, 0, 0, 0, 0, 0, 2, 1, 0, 0, 0, 0, 0, 0, 0, 0, 0, 0, 0, 0, 0,\n",
       "       0, 0, 0, 0, 0, 0, 0, 0, 0, 0, 0, 0, 0, 1, 1, 1, 1, 1, 1, 1, 4, 1,\n",
       "       1, 1, 1, 1, 0, 1, 1, 0, 1, 1, 1, 1, 0, 1, 1, 1, 2, 2, 0, 0, 0, 1,\n",
       "       0, 2, 2, 1, 3, 2, 2, 4, 4, 4, 4, 1, 4, 4, 4, 4, 4, 0, 0, 3, 3, 3,\n",
       "       3, 3, 1, 3, 3, 3, 3])"
      ]
     },
     "execution_count": 14,
     "metadata": {},
     "output_type": "execute_result"
    }
   ],
   "source": [
    "# realizando uma votação entre as três\n",
    "# listas de predições distintas de cada stack\n",
    "\n",
    "# pesos para cada campo e cada classe\n",
    "weights = [[1, 1, 1],\n",
    "           [1, 1, 1],\n",
    "           [1, 1, 1],\n",
    "           [3, 3, 3],\n",
    "           [4, 4, 4]]\n",
    "\n",
    "y_pred = vote.hard_voting(list(preds.values()),\n",
    "                          weights=weights)\n",
    "\n",
    "y_pred"
   ]
  },
  {
   "cell_type": "code",
   "execution_count": 15,
   "metadata": {},
   "outputs": [
    {
     "name": "stdout",
     "output_type": "stream",
     "text": [
      "              precision    recall  f1-score   support\n",
      "\n",
      "           0       0.78      0.91      0.84        35\n",
      "           1       0.81      0.84      0.82        25\n",
      "           2       0.86      0.46      0.60        13\n",
      "           3       0.82      0.90      0.86        10\n",
      "           4       0.90      0.75      0.82        12\n",
      "\n",
      "    accuracy                           0.81        95\n",
      "   macro avg       0.83      0.77      0.79        95\n",
      "weighted avg       0.82      0.81      0.80        95\n",
      "\n"
     ]
    },
    {
     "data": {
      "image/png": "[encoded data removed]",
      "text/plain": [
       "<Figure size 432x288 with 2 Axes>"
      ]
     },
     "metadata": {
      "needs_background": "light"
     },
     "output_type": "display_data"
    }
   ],
   "source": [
    "# resultados\n",
    "\n",
    "print(classification_report(y_test, y_pred))\n",
    "\n",
    "cm = confusion_matrix(y_test, y_pred)\n",
    "cm_plot = ConfusionMatrixDisplay(cm, display_labels=loader.labels)\n",
    "cm_plot.plot(cmap='viridis_r');"
   ]
  },
  {
   "cell_type": "code",
   "execution_count": 16,
   "metadata": {},
   "outputs": [
    {
     "data": {
      "text/plain": [
       "array([3, 0, 0, 0, 0, 0, 0, 0, 1, 0, 0, 0, 0, 0, 0, 0, 0, 0, 0, 0, 0, 0,\n",
       "       0, 0, 0, 0, 0, 0, 0, 0, 0, 0, 0, 0, 0, 1, 1, 1, 1, 1, 1, 1, 4, 1,\n",
       "       1, 1, 1, 1, 0, 1, 1, 0, 1, 1, 1, 1, 0, 1, 1, 1, 1, 2, 0, 0, 0, 1,\n",
       "       0, 2, 2, 1, 3, 2, 2, 4, 4, 4, 4, 1, 4, 4, 4, 4, 4, 0, 0, 4, 3, 3,\n",
       "       3, 3, 1, 3, 3, 1, 3])"
      ]
     },
     "execution_count": 16,
     "metadata": {},
     "output_type": "execute_result"
    }
   ],
   "source": [
    "# lendo o arquivo de predições\n",
    "# e conferindo os resultados\n",
    "\n",
    "with open('../challenge/predictions.txt', 'r') as f:\n",
    "    fpreds = f.read()\n",
    "    fpreds = fpreds.strip()\n",
    "    fpreds = fpreds.split('\\n')\n",
    "    fpreds = np.array([int(i.split(' ')[1]) for i in fpreds])\n",
    "\n",
    "fpreds"
   ]
  },
  {
   "cell_type": "code",
   "execution_count": 17,
   "metadata": {},
   "outputs": [
    {
     "name": "stdout",
     "output_type": "stream",
     "text": [
      "False\n"
     ]
    },
    {
     "data": {
      "text/plain": [
       "array([ True,  True,  True,  True,  True,  True,  True, False,  True,\n",
       "        True,  True,  True,  True,  True,  True,  True,  True,  True,\n",
       "        True,  True,  True,  True,  True,  True,  True,  True,  True,\n",
       "        True,  True,  True,  True,  True,  True,  True,  True,  True,\n",
       "        True,  True,  True,  True,  True,  True,  True,  True,  True,\n",
       "        True,  True,  True,  True,  True,  True,  True,  True,  True,\n",
       "        True,  True,  True,  True,  True,  True, False,  True,  True,\n",
       "        True,  True,  True,  True,  True,  True,  True,  True,  True,\n",
       "        True,  True,  True,  True,  True,  True,  True,  True,  True,\n",
       "        True,  True,  True,  True, False,  True,  True,  True,  True,\n",
       "        True,  True,  True, False,  True])"
      ]
     },
     "execution_count": 17,
     "metadata": {},
     "output_type": "execute_result"
    }
   ],
   "source": [
    "# as predições geradas são iguais às do arquivo txt?\n",
    "\n",
    "print(all(y_pred == fpreds))\n",
    "y_pred == fpreds"
   ]
  },
  {
   "cell_type": "code",
   "execution_count": 18,
   "metadata": {},
   "outputs": [
    {
     "name": "stdout",
     "output_type": "stream",
     "text": [
      "              precision    recall  f1-score   support\n",
      "\n",
      "           0       0.79      0.94      0.86        35\n",
      "           1       0.75      0.84      0.79        25\n",
      "           2       1.00      0.38      0.56        13\n",
      "           3       0.78      0.70      0.74        10\n",
      "           4       0.82      0.75      0.78        12\n",
      "\n",
      "    accuracy                           0.79        95\n",
      "   macro avg       0.83      0.72      0.74        95\n",
      "weighted avg       0.81      0.79      0.78        95\n",
      "\n"
     ]
    },
    {
     "data": {
      "image/png": "[encoded data removed]",
      "text/plain": [
       "<Figure size 432x288 with 2 Axes>"
      ]
     },
     "metadata": {
      "needs_background": "light"
     },
     "output_type": "display_data"
    }
   ],
   "source": [
    "print(classification_report(y_test, fpreds))\n",
    "\n",
    "cm = confusion_matrix(y_test, fpreds)\n",
    "cm_plot = ConfusionMatrixDisplay(cm, display_labels=loader.labels)\n",
    "cm_plot.plot(cmap='viridis_r');"
   ]
  }
 ],
 "metadata": {
  "kernelspec": {
   "display_name": "Python 3.9.7 ('base')",
   "language": "python",
   "name": "python3"
  },
  "language_info": {
   "codemirror_mode": {
    "name": "ipython",
    "version": 3
   },
   "file_extension": ".py",
   "mimetype": "text/x-python",
   "name": "python",
   "nbconvert_exporter": "python",
   "pygments_lexer": "ipython3",
   "version": "3.9.7"
  },
  "orig_nbformat": 4,
  "vscode": {
   "interpreter": {
    "hash": "30f07e33239fa8282e26e15725321d07a8b0c67c5d45bbf6a7e3668dfd7ffdbf"
   }
  }
 },
 "nbformat": 4,
 "nbformat_minor": 2
}
