{
 "cells": [
  {
   "cell_type": "code",
   "execution_count": 74,
   "metadata": {},
   "outputs": [],
   "source": [
    "import pickle\n",
    "\n",
    "import sys\n",
    "sys.path.append('..')\n",
    "\n",
    "import random\n",
    "import numpy as np\n",
    "import pandas as pd\n",
    "\n",
    "import matplotlib.pyplot as plt\n",
    "\n",
    "from data_loader.load_data import ImagesLoader\n",
    "\n",
    "from sklearn.preprocessing import MinMaxScaler\n",
    "\n",
    "from sklearn.pipeline import Pipeline\n",
    "from sklearn.neighbors import KNeighborsClassifier\n",
    "from sklearn.naive_bayes import GaussianNB\n",
    "from sklearn.linear_model import LogisticRegression\n",
    "from sklearn.svm import LinearSVC, SVC\n",
    "from sklearn.neural_network import MLPClassifier\n",
    "\n",
    "from sklearn.ensemble import RandomForestClassifier, \\\n",
    "                             AdaBoostClassifier, \\\n",
    "                             ExtraTreesClassifier, \\\n",
    "                             StackingClassifier, \\\n",
    "                             VotingClassifier, \\\n",
    "                             BaggingClassifier\n",
    "\n",
    "from sklearn.dummy import DummyClassifier\n",
    "\n",
    "from xgboost import XGBClassifier\n",
    "from lightgbm import LGBMClassifier\n",
    "\n",
    "from sklearn.metrics import accuracy_score, \\\n",
    "                            f1_score, \\\n",
    "                            classification_report, \\\n",
    "                            confusion_matrix, \\\n",
    "                            ConfusionMatrixDisplay\n",
    "\n",
    "import scikitplot as skplt\n",
    "\n",
    "from skopt import gp_minimize\n",
    "from skopt.plots import plot_convergence\n",
    "\n",
    "from simpsons_classifier.voter import Voter as vote\n",
    "import simpsons_classifier.load_stacking_models as stack\n",
    "from simpsons_classifier.simpsons_classifier import SimpsonsClassifier \n",
    "\n",
    "import shap"
   ]
  },
  {
   "cell_type": "code",
   "execution_count": 2,
   "metadata": {},
   "outputs": [],
   "source": [
    "import warnings\n",
    "warnings.filterwarnings('ignore')\n",
    "\n",
    "pd.set_option('display.max_rows', 1000)"
   ]
  },
  {
   "cell_type": "markdown",
   "metadata": {},
   "source": [
    "# **CARREGANDO OS DADOS**"
   ]
  },
  {
   "cell_type": "code",
   "execution_count": 11,
   "metadata": {},
   "outputs": [],
   "source": [
    "DATASET_NAME = 'simpsons-small-balanced'"
   ]
  },
  {
   "cell_type": "code",
   "execution_count": 12,
   "metadata": {},
   "outputs": [],
   "source": [
    "loader = ImagesLoader(train_images_path=f'../data/{DATASET_NAME}/train/',\n",
    "                      test_images_path=f'../data/{DATASET_NAME}/test/')\n",
    "\n",
    "# data = loader.load_data()\n",
    "\n",
    "with open(f'../data/{DATASET_NAME}/{DATASET_NAME}.pkl', 'rb') as infile:\n",
    "    data = pickle.load(infile)"
   ]
  },
  {
   "cell_type": "code",
   "execution_count": 14,
   "metadata": {},
   "outputs": [
    {
     "name": "stdout",
     "output_type": "stream",
     "text": [
      "names_characters\n",
      "(324,) (95,)\n"
     ]
    }
   ],
   "source": [
    "print('names_characters')\n",
    "print(np.array(data['names_characters']['train']).shape,\n",
    "      np.array(data['names_characters']['test']).shape)"
   ]
  },
  {
   "cell_type": "markdown",
   "metadata": {},
   "source": [
    "# **RESULTADOS PRELIMINARES**"
   ]
  },
  {
   "cell_type": "code",
   "execution_count": null,
   "metadata": {},
   "outputs": [],
   "source": [
    "# melhores resultados preliminares\n",
    "\n",
    "df = pd.read_csv(\n",
    "    '../output/simpsons-small-balanced/classification-report-summary.csv'\n",
    ")\n",
    "\n",
    "df_models = df[~((df['model'].str.contains('vote')) | \\\n",
    "                 (df['model'].str.contains('stk')) | \\\n",
    "                 (df['model'].str.contains('bag')))]\n",
    "\n",
    "df_ensemb = df[((df['model'].str.contains('vote')) | \\\n",
    "                (df['model'].str.contains('stk')) | \\\n",
    "                (df['model'].str.contains('bag')))]"
   ]
  },
  {
   "cell_type": "code",
   "execution_count": 21,
   "metadata": {},
   "outputs": [
    {
     "name": "stdout",
     "output_type": "stream",
     "text": [
      "(408, 3)\n"
     ]
    },
    {
     "data": {
      "text/html": [
       "<div>\n",
       "<style scoped>\n",
       "    .dataframe tbody tr th:only-of-type {\n",
       "        vertical-align: middle;\n",
       "    }\n",
       "\n",
       "    .dataframe tbody tr th {\n",
       "        vertical-align: top;\n",
       "    }\n",
       "\n",
       "    .dataframe thead th {\n",
       "        text-align: right;\n",
       "    }\n",
       "</style>\n",
       "<table border=\"1\" class=\"dataframe\">\n",
       "  <thead>\n",
       "    <tr style=\"text-align: right;\">\n",
       "      <th></th>\n",
       "      <th>model</th>\n",
       "      <th>f1-score</th>\n",
       "      <th>field</th>\n",
       "    </tr>\n",
       "  </thead>\n",
       "  <tbody>\n",
       "    <tr>\n",
       "      <th>54</th>\n",
       "      <td>LGBM</td>\n",
       "      <td>0.680209</td>\n",
       "      <td>combination_hsv+lbp+hu+hog</td>\n",
       "    </tr>\n",
       "    <tr>\n",
       "      <th>78</th>\n",
       "      <td>LGBM</td>\n",
       "      <td>0.658943</td>\n",
       "      <td>combination_hsv+lbp</td>\n",
       "    </tr>\n",
       "    <tr>\n",
       "      <th>318</th>\n",
       "      <td>LGBM</td>\n",
       "      <td>0.655393</td>\n",
       "      <td>descriptor_hsv</td>\n",
       "    </tr>\n",
       "    <tr>\n",
       "      <th>151</th>\n",
       "      <td>XGBoost</td>\n",
       "      <td>0.653191</td>\n",
       "      <td>combination_rgb+hsv+lbp+hu+hog</td>\n",
       "    </tr>\n",
       "    <tr>\n",
       "      <th>62</th>\n",
       "      <td>LinearSVC</td>\n",
       "      <td>0.651370</td>\n",
       "      <td>combination_hsv+lbp+hu</td>\n",
       "    </tr>\n",
       "    <tr>\n",
       "      <th>31</th>\n",
       "      <td>XGBoost</td>\n",
       "      <td>0.645616</td>\n",
       "      <td>combination_hsv+hu</td>\n",
       "    </tr>\n",
       "    <tr>\n",
       "      <th>91</th>\n",
       "      <td>XGBoost</td>\n",
       "      <td>0.643884</td>\n",
       "      <td>combination_rgb+hog</td>\n",
       "    </tr>\n",
       "    <tr>\n",
       "      <th>55</th>\n",
       "      <td>XGBoost</td>\n",
       "      <td>0.640769</td>\n",
       "      <td>combination_hsv+lbp+hu+hog</td>\n",
       "    </tr>\n",
       "    <tr>\n",
       "      <th>319</th>\n",
       "      <td>XGBoost</td>\n",
       "      <td>0.639331</td>\n",
       "      <td>descriptor_hsv</td>\n",
       "    </tr>\n",
       "    <tr>\n",
       "      <th>158</th>\n",
       "      <td>LinearSVC</td>\n",
       "      <td>0.638166</td>\n",
       "      <td>combination_rgb+hsv+lbp+hu</td>\n",
       "    </tr>\n",
       "    <tr>\n",
       "      <th>139</th>\n",
       "      <td>XGBoost</td>\n",
       "      <td>0.632858</td>\n",
       "      <td>combination_rgb+hsv+lbp+hog</td>\n",
       "    </tr>\n",
       "    <tr>\n",
       "      <th>26</th>\n",
       "      <td>LinearSVC</td>\n",
       "      <td>0.631949</td>\n",
       "      <td>combination_hsv+hu</td>\n",
       "    </tr>\n",
       "    <tr>\n",
       "      <th>103</th>\n",
       "      <td>XGBoost</td>\n",
       "      <td>0.631445</td>\n",
       "      <td>combination_rgb+hsv+hog</td>\n",
       "    </tr>\n",
       "    <tr>\n",
       "      <th>172</th>\n",
       "      <td>LogisticRegression</td>\n",
       "      <td>0.629656</td>\n",
       "      <td>combination_rgb+hsv+lbp</td>\n",
       "    </tr>\n",
       "    <tr>\n",
       "      <th>170</th>\n",
       "      <td>LinearSVC</td>\n",
       "      <td>0.628932</td>\n",
       "      <td>combination_rgb+hsv+lbp</td>\n",
       "    </tr>\n",
       "    <tr>\n",
       "      <th>223</th>\n",
       "      <td>XGBoost</td>\n",
       "      <td>0.628651</td>\n",
       "      <td>combination_rgb+lbp+hog</td>\n",
       "    </tr>\n",
       "    <tr>\n",
       "      <th>160</th>\n",
       "      <td>LogisticRegression</td>\n",
       "      <td>0.627055</td>\n",
       "      <td>combination_rgb+hsv+lbp+hu</td>\n",
       "    </tr>\n",
       "    <tr>\n",
       "      <th>222</th>\n",
       "      <td>LGBM</td>\n",
       "      <td>0.624876</td>\n",
       "      <td>combination_rgb+lbp+hog</td>\n",
       "    </tr>\n",
       "    <tr>\n",
       "      <th>74</th>\n",
       "      <td>LinearSVC</td>\n",
       "      <td>0.622031</td>\n",
       "      <td>combination_hsv+lbp</td>\n",
       "    </tr>\n",
       "    <tr>\n",
       "      <th>76</th>\n",
       "      <td>LogisticRegression</td>\n",
       "      <td>0.620611</td>\n",
       "      <td>combination_hsv+lbp</td>\n",
       "    </tr>\n",
       "    <tr>\n",
       "      <th>66</th>\n",
       "      <td>LGBM</td>\n",
       "      <td>0.619732</td>\n",
       "      <td>combination_hsv+lbp+hu</td>\n",
       "    </tr>\n",
       "    <tr>\n",
       "      <th>19</th>\n",
       "      <td>XGBoost</td>\n",
       "      <td>0.617140</td>\n",
       "      <td>combination_hsv+hu+hog</td>\n",
       "    </tr>\n",
       "    <tr>\n",
       "      <th>314</th>\n",
       "      <td>LinearSVC</td>\n",
       "      <td>0.615607</td>\n",
       "      <td>descriptor_hsv</td>\n",
       "    </tr>\n",
       "    <tr>\n",
       "      <th>199</th>\n",
       "      <td>XGBoost</td>\n",
       "      <td>0.613621</td>\n",
       "      <td>combination_rgb+hu+hog</td>\n",
       "    </tr>\n",
       "    <tr>\n",
       "      <th>234</th>\n",
       "      <td>LGBM</td>\n",
       "      <td>0.612874</td>\n",
       "      <td>combination_rgb+lbp+hu+hog</td>\n",
       "    </tr>\n",
       "  </tbody>\n",
       "</table>\n",
       "</div>"
      ],
      "text/plain": [
       "                  model  f1-score                           field\n",
       "54                 LGBM  0.680209      combination_hsv+lbp+hu+hog\n",
       "78                 LGBM  0.658943             combination_hsv+lbp\n",
       "318                LGBM  0.655393                  descriptor_hsv\n",
       "151             XGBoost  0.653191  combination_rgb+hsv+lbp+hu+hog\n",
       "62            LinearSVC  0.651370          combination_hsv+lbp+hu\n",
       "31              XGBoost  0.645616              combination_hsv+hu\n",
       "91              XGBoost  0.643884             combination_rgb+hog\n",
       "55              XGBoost  0.640769      combination_hsv+lbp+hu+hog\n",
       "319             XGBoost  0.639331                  descriptor_hsv\n",
       "158           LinearSVC  0.638166      combination_rgb+hsv+lbp+hu\n",
       "139             XGBoost  0.632858     combination_rgb+hsv+lbp+hog\n",
       "26            LinearSVC  0.631949              combination_hsv+hu\n",
       "103             XGBoost  0.631445         combination_rgb+hsv+hog\n",
       "172  LogisticRegression  0.629656         combination_rgb+hsv+lbp\n",
       "170           LinearSVC  0.628932         combination_rgb+hsv+lbp\n",
       "223             XGBoost  0.628651         combination_rgb+lbp+hog\n",
       "160  LogisticRegression  0.627055      combination_rgb+hsv+lbp+hu\n",
       "222                LGBM  0.624876         combination_rgb+lbp+hog\n",
       "74            LinearSVC  0.622031             combination_hsv+lbp\n",
       "76   LogisticRegression  0.620611             combination_hsv+lbp\n",
       "66                 LGBM  0.619732          combination_hsv+lbp+hu\n",
       "19              XGBoost  0.617140          combination_hsv+hu+hog\n",
       "314           LinearSVC  0.615607                  descriptor_hsv\n",
       "199             XGBoost  0.613621          combination_rgb+hu+hog\n",
       "234                LGBM  0.612874      combination_rgb+lbp+hu+hog"
      ]
     },
     "execution_count": 21,
     "metadata": {},
     "output_type": "execute_result"
    }
   ],
   "source": [
    "print(df_models.shape)\n",
    "\n",
    "df_models \\\n",
    "    .sort_values(by='f1-score', ascending=False) \\\n",
    "    .head(25)"
   ]
  },
  {
   "cell_type": "code",
   "execution_count": null,
   "metadata": {},
   "outputs": [
    {
     "name": "stdout",
     "output_type": "stream",
     "text": [
      "(144, 3)\n"
     ]
    },
    {
     "data": {
      "text/html": [
       "<div>\n",
       "<style scoped>\n",
       "    .dataframe tbody tr th:only-of-type {\n",
       "        vertical-align: middle;\n",
       "    }\n",
       "\n",
       "    .dataframe tbody tr th {\n",
       "        vertical-align: top;\n",
       "    }\n",
       "\n",
       "    .dataframe thead th {\n",
       "        text-align: right;\n",
       "    }\n",
       "</style>\n",
       "<table border=\"1\" class=\"dataframe\">\n",
       "  <thead>\n",
       "    <tr style=\"text-align: right;\">\n",
       "      <th></th>\n",
       "      <th>model</th>\n",
       "      <th>f1-score</th>\n",
       "      <th>field</th>\n",
       "    </tr>\n",
       "  </thead>\n",
       "  <tbody>\n",
       "    <tr>\n",
       "      <th>424</th>\n",
       "      <td>stk_lgbm</td>\n",
       "      <td>0.734506</td>\n",
       "      <td>ensemb_combination_hsv+lbp+hu</td>\n",
       "    </tr>\n",
       "    <tr>\n",
       "      <th>412</th>\n",
       "      <td>stk_lgbm</td>\n",
       "      <td>0.722820</td>\n",
       "      <td>ensemb_combination_hsv+hu</td>\n",
       "    </tr>\n",
       "    <tr>\n",
       "      <th>432</th>\n",
       "      <td>stk_lsvc</td>\n",
       "      <td>0.710786</td>\n",
       "      <td>ensemb_combination_hsv+lbp</td>\n",
       "    </tr>\n",
       "    <tr>\n",
       "      <th>428</th>\n",
       "      <td>vote_stk_w</td>\n",
       "      <td>0.710346</td>\n",
       "      <td>ensemb_combination_hsv+lbp+hu</td>\n",
       "    </tr>\n",
       "    <tr>\n",
       "      <th>549</th>\n",
       "      <td>bag_lgbm</td>\n",
       "      <td>0.701934</td>\n",
       "      <td>stack_descriptor_hsv</td>\n",
       "    </tr>\n",
       "    <tr>\n",
       "      <th>434</th>\n",
       "      <td>stk_lr</td>\n",
       "      <td>0.699766</td>\n",
       "      <td>ensemb_combination_hsv+lbp</td>\n",
       "    </tr>\n",
       "    <tr>\n",
       "      <th>421</th>\n",
       "      <td>stk_mlp</td>\n",
       "      <td>0.696637</td>\n",
       "      <td>ensemb_combination_hsv+lbp+hu</td>\n",
       "    </tr>\n",
       "    <tr>\n",
       "      <th>409</th>\n",
       "      <td>stk_mlp</td>\n",
       "      <td>0.695594</td>\n",
       "      <td>ensemb_combination_hsv+hu</td>\n",
       "    </tr>\n",
       "    <tr>\n",
       "      <th>439</th>\n",
       "      <td>vote_stk</td>\n",
       "      <td>0.695301</td>\n",
       "      <td>ensemb_combination_hsv+lbp</td>\n",
       "    </tr>\n",
       "    <tr>\n",
       "      <th>427</th>\n",
       "      <td>vote_stk</td>\n",
       "      <td>0.694397</td>\n",
       "      <td>ensemb_combination_hsv+lbp+hu</td>\n",
       "    </tr>\n",
       "  </tbody>\n",
       "</table>\n",
       "</div>"
      ],
      "text/plain": [
       "          model  f1-score                          field\n",
       "424    stk_lgbm  0.734506  ensemb_combination_hsv+lbp+hu\n",
       "412    stk_lgbm  0.722820      ensemb_combination_hsv+hu\n",
       "432    stk_lsvc  0.710786     ensemb_combination_hsv+lbp\n",
       "428  vote_stk_w  0.710346  ensemb_combination_hsv+lbp+hu\n",
       "549    bag_lgbm  0.701934           stack_descriptor_hsv\n",
       "434      stk_lr  0.699766     ensemb_combination_hsv+lbp\n",
       "421     stk_mlp  0.696637  ensemb_combination_hsv+lbp+hu\n",
       "409     stk_mlp  0.695594      ensemb_combination_hsv+hu\n",
       "439    vote_stk  0.695301     ensemb_combination_hsv+lbp\n",
       "427    vote_stk  0.694397  ensemb_combination_hsv+lbp+hu"
      ]
     },
     "metadata": {},
     "output_type": "display_data"
    }
   ],
   "source": [
    "print(df_ensemb.shape)\n",
    "\n",
    "df_ensemb \\\n",
    "    .sort_values(by='f1-score', ascending=False) \\\n",
    "    .head(10)"
   ]
  },
  {
   "cell_type": "markdown",
   "metadata": {},
   "source": [
    "# **TRAIN-TEST SPLIT**"
   ]
  },
  {
   "cell_type": "code",
   "execution_count": null,
   "metadata": {},
   "outputs": [
    {
     "data": {
      "text/plain": [
       "((324,), (95,))"
      ]
     },
     "metadata": {},
     "output_type": "display_data"
    }
   ],
   "source": [
    "y_train = np.array(data['names_encoded']['train'])\n",
    "y_test = np.array(data['names_encoded']['test'])\n",
    "\n",
    "y_train.shape, y_test.shape"
   ]
  },
  {
   "cell_type": "markdown",
   "metadata": {},
   "source": [
    "# **TREINANDO MODELOS**"
   ]
  },
  {
   "cell_type": "code",
   "execution_count": 70,
   "metadata": {},
   "outputs": [],
   "source": [
    "FIELDS = [\n",
    "    'combination_hsv+hu',\n",
    "    'descriptor_hsv'\n",
    "]"
   ]
  },
  {
   "cell_type": "code",
   "execution_count": 71,
   "metadata": {},
   "outputs": [
    {
     "name": "stdout",
     "output_type": "stream",
     "text": [
      "lgbm_combination_hsv+hu completed\n",
      "lgbm_descriptor_hsv completed\n"
     ]
    }
   ],
   "source": [
    "estimators = [\n",
    "    ('lgbm', LGBMClassifier(random_state=42)),\n",
    "    ('lgbm', LGBMClassifier(random_state=42))\n",
    "]\n",
    "\n",
    "preds = {}\n",
    "\n",
    "for estimator, field in zip(estimators, FIELDS):\n",
    "    estimator_name = estimator[0]\n",
    "    model = estimator[1]\n",
    "\n",
    "    X_train = np.array(data[field]['train'])\n",
    "    X_test = np.array(data[field]['test'])\n",
    "\n",
    "    model.fit(X_train, y_train)\n",
    "    y_pred = model.predict(X_test)\n",
    "\n",
    "    preds[estimator_name + '_' + field] = y_pred\n",
    "\n",
    "    print(f'{estimator_name}_{field}', 'completed')"
   ]
  },
  {
   "cell_type": "code",
   "execution_count": 72,
   "metadata": {},
   "outputs": [
    {
     "name": "stdout",
     "output_type": "stream",
     "text": [
      "combination_hsv+hu\n",
      "              precision    recall  f1-score   support\n",
      "\n",
      "           0       0.62      1.00      0.77        35\n",
      "           1       0.78      0.84      0.81        25\n",
      "           2       0.50      0.08      0.13        13\n",
      "           3       1.00      0.40      0.57        10\n",
      "           4       0.83      0.42      0.56        12\n",
      "\n",
      "    accuracy                           0.69        95\n",
      "   macro avg       0.75      0.55      0.57        95\n",
      "weighted avg       0.71      0.69      0.64        95\n",
      "\n",
      "descriptor_hsv\n",
      "              precision    recall  f1-score   support\n",
      "\n",
      "           0       0.62      1.00      0.77        35\n",
      "           1       0.76      0.88      0.81        25\n",
      "           2       1.00      0.08      0.14        13\n",
      "           3       1.00      0.30      0.46        10\n",
      "           4       0.83      0.42      0.56        12\n",
      "\n",
      "    accuracy                           0.69        95\n",
      "   macro avg       0.84      0.53      0.55        95\n",
      "weighted avg       0.78      0.69      0.64        95\n",
      "\n"
     ]
    }
   ],
   "source": [
    "for field, pred in zip(FIELDS, list(preds.values())):\n",
    "    print(field)\n",
    "    print(classification_report(y_test, pred))"
   ]
  },
  {
   "cell_type": "markdown",
   "metadata": {},
   "source": [
    "# **REALIZANDO OTIMIZAÇÕES BAYESIANAS**"
   ]
  },
  {
   "cell_type": "code",
   "execution_count": 61,
   "metadata": {},
   "outputs": [],
   "source": [
    "def bayesian_optimization(model,\n",
    "                          field,\n",
    "                          keywords,\n",
    "                          space,\n",
    "                          additional_params,\n",
    "                          n_calls=30):\n",
    "    X_train = data[field]['train']\n",
    "    X_test = data[field]['test']\n",
    "\n",
    "    def train_model(params):\n",
    "        model_params = {key: param for key, param in zip(keywords, params)}\n",
    "        clf = model(**model_params, **additional_params)\n",
    "\n",
    "        clf.fit(X_train, y_train)\n",
    "        y_pred = clf.predict(X_test)\n",
    "        f1 = f1_score(y_test, y_pred, average='weighted')\n",
    "\n",
    "        return -f1\n",
    "\n",
    "    # gaussian process optimization\n",
    "    result = gp_minimize(\n",
    "        train_model,\n",
    "        space,\n",
    "        random_state=42,\n",
    "        verbose=0,\n",
    "        n_calls=n_calls,\n",
    "        n_random_starts=10\n",
    "    )\n",
    "\n",
    "    print('weight f1 =', abs(result.fun))\n",
    "    plot_convergence(result);\n",
    "\n",
    "    return {key: param for key, param in zip(keywords, result.x)}"
   ]
  },
  {
   "cell_type": "code",
   "execution_count": null,
   "metadata": {},
   "outputs": [],
   "source": [
    "# espaço de range dos valores dos parâmetros\n",
    "space = [\n",
    "    [1e-3, 1e-1],\n",
    "    [2, 128],    \n",
    "    [1, 100],    \n",
    "    [.05, 1.0],  \n",
    "    [.1, 1.0]   \n",
    "]\n",
    "\n",
    "# nomes dos parâmetros\n",
    "keywords = [\n",
    "    'learning_rate',\n",
    "    'max_depth',\n",
    "    'min_child_weight',\n",
    "    'subsample',\n",
    "    'colsample_bytree'\n",
    "]\n",
    "\n",
    "# parâmetros fixos\n",
    "additional_params = {\n",
    "    'n_estimators': 100,\n",
    "    'subsample_freq': 1,\n",
    "    'random_state': 42,\n",
    "}"
   ]
  },
  {
   "cell_type": "code",
   "execution_count": 68,
   "metadata": {},
   "outputs": [
    {
     "name": "stdout",
     "output_type": "stream",
     "text": [
      "weight f1 = 0.7052834929701515\n"
     ]
    },
    {
     "data": {
      "text/plain": [
       "{'learning_rate': 0.1,\n",
       " 'max_depth': 2,\n",
       " 'min_child_weight': 1,\n",
       " 'subsample': 1.0,\n",
       " 'colsample_bytree': 0.8511519384156021}"
      ]
     },
     "execution_count": 68,
     "metadata": {},
     "output_type": "execute_result"
    },
    {
     "data": {
      "image/png": "[encoded data removed]",
      "text/plain": [
       "<Figure size 432x288 with 1 Axes>"
      ]
     },
     "metadata": {
      "needs_background": "light"
     },
     "output_type": "display_data"
    }
   ],
   "source": [
    "# realizando a otimização para 'combination_hsv+hu' (0.64)\n",
    "\n",
    "bayesian_optimization(\n",
    "   model=LGBMClassifier,\n",
    "   field=FIELDS[0],\n",
    "   space=space,\n",
    "   keywords=keywords,\n",
    "   additional_params=additional_params,\n",
    "   n_calls=300\n",
    ")"
   ]
  },
  {
   "cell_type": "code",
   "execution_count": 73,
   "metadata": {},
   "outputs": [
    {
     "name": "stdout",
     "output_type": "stream",
     "text": [
      "weight f1 = 0.712090554822666\n"
     ]
    },
    {
     "data": {
      "text/plain": [
       "{'learning_rate': 0.1,\n",
       " 'max_depth': 2,\n",
       " 'min_child_weight': 1,\n",
       " 'subsample': 0.8298111260102561,\n",
       " 'colsample_bytree': 1.0}"
      ]
     },
     "execution_count": 73,
     "metadata": {},
     "output_type": "execute_result"
    },
    {
     "data": {
      "image/png": "[encoded data removed]",
      "text/plain": [
       "<Figure size 432x288 with 1 Axes>"
      ]
     },
     "metadata": {
      "needs_background": "light"
     },
     "output_type": "display_data"
    }
   ],
   "source": [
    "# realizando a otimização para 'descriptor_hsv' (0.64)\n",
    "\n",
    "bayesian_optimization(\n",
    "   model=LGBMClassifier,\n",
    "   field=FIELDS[1],\n",
    "   space=space,\n",
    "   keywords=keywords,\n",
    "   additional_params=additional_params,\n",
    "   n_calls=300\n",
    ")"
   ]
  },
  {
   "cell_type": "code",
   "execution_count": 79,
   "metadata": {},
   "outputs": [],
   "source": [
    "X_train = [data[field]['train'] for field in FIELDS]\n",
    "X_test = [data[field]['test'] for field in FIELDS]"
   ]
  },
  {
   "cell_type": "code",
   "execution_count": 84,
   "metadata": {},
   "outputs": [],
   "source": [
    "lgbm_params1 = {\n",
    "    'learning_rate': 0.1,\n",
    "    'max_depth': 2,\n",
    "    'min_child_weight': 1,\n",
    "    'subsample': 1.0,\n",
    "    'colsample_bytree': 0.8511519384156021,\n",
    "    'n_estimators': 100,\n",
    "    'subsample_freq': 1,\n",
    "    'random_state': 42\n",
    "}\n",
    "\n",
    "lgbm_params2 = {\n",
    "    'learning_rate': 0.1,\n",
    "    'max_depth': 2,\n",
    "    'min_child_weight': 1,\n",
    "    'subsample': 0.8298111260102561,\n",
    "    'colsample_bytree': 1.0,\n",
    "    'n_estimators': 100,\n",
    "    'subsample_freq': 1,\n",
    "    'random_state': 42\n",
    "}\n",
    "\n",
    "# estimadores finais de cada stacking classifier\n",
    "final_estimators = [\n",
    "    LGBMClassifier(**lgbm_params1),\n",
    "    LGBMClassifier(**lgbm_params2)\n",
    "]\n",
    "\n",
    "# estimadores de cada stacking classifier\n",
    "estimators = [\n",
    "    ('lsvc', LinearSVC(random_state=42)),\n",
    "    ('mlp', MLPClassifier(random_state=42)),\n",
    "    ('lr', LogisticRegression(random_state=42)),\n",
    "    ('xgb', XGBClassifier(random_state=42)),\n",
    "    ('lgbm', LGBMClassifier(random_state=42))\n",
    "]\n",
    "\n",
    "setup = (estimators, final_estimators)"
   ]
  },
  {
   "cell_type": "code",
   "execution_count": 85,
   "metadata": {},
   "outputs": [],
   "source": [
    "stacks = stack.load_stacking_models(fields=FIELDS, setup=setup)\n",
    "\n",
    "simp = SimpsonsClassifier(stack_models=stacks)\n",
    "simp.fit(X_train, y_train)\n",
    "preds = simp.predict(X_test)"
   ]
  },
  {
   "cell_type": "code",
   "execution_count": 86,
   "metadata": {},
   "outputs": [
    {
     "name": "stdout",
     "output_type": "stream",
     "text": [
      "combination_hsv+hu\n",
      "              precision    recall  f1-score   support\n",
      "\n",
      "           0       0.70      0.91      0.79        35\n",
      "           1       0.78      0.84      0.81        25\n",
      "           2       0.67      0.46      0.55        13\n",
      "           3       1.00      0.40      0.57        10\n",
      "           4       0.89      0.67      0.76        12\n",
      "\n",
      "    accuracy                           0.75        95\n",
      "   macro avg       0.81      0.66      0.70        95\n",
      "weighted avg       0.77      0.75      0.73        95\n",
      "\n",
      "descriptor_hsv\n",
      "              precision    recall  f1-score   support\n",
      "\n",
      "           0       0.71      1.00      0.83        35\n",
      "           1       0.80      0.80      0.80        25\n",
      "           2       0.62      0.38      0.48        13\n",
      "           3       0.67      0.40      0.50        10\n",
      "           4       1.00      0.58      0.74        12\n",
      "\n",
      "    accuracy                           0.75        95\n",
      "   macro avg       0.76      0.63      0.67        95\n",
      "weighted avg       0.76      0.75      0.73        95\n",
      "\n"
     ]
    }
   ],
   "source": [
    "for field in FIELDS:\n",
    "    print(field)\n",
    "    print(classification_report(y_test, preds[field]))"
   ]
  },
  {
   "cell_type": "code",
   "execution_count": 87,
   "metadata": {},
   "outputs": [
    {
     "name": "stdout",
     "output_type": "stream",
     "text": [
      "best weight f1 = 0.7746862786543491\n",
      "weights\n",
      "[[1, 2, 3], [1, 3, 1], [2, 1, 2], [3, 3, 1], [2, 1, 3]]\n"
     ]
    }
   ],
   "source": [
    "# pesos aleatórios; scores obtidos (f1)\n",
    "random_weights = []\n",
    "weighted_f1 = []\n",
    "\n",
    "# gerando 10000 matrizes aleatórias de pesos\n",
    "for i in range(10000):\n",
    "    weights = [[random.randint(1,3) for i in range(3)] for i in range(5)]\n",
    "\n",
    "    # realizando a votação\n",
    "    y_pred_election = vote.hard_voting(args=list(preds.values()),\n",
    "                                       weights=weights)\n",
    "\n",
    "    weighted_f1.append(\n",
    "        f1_score(y_test, y_pred_election, average='weighted')\n",
    "    )\n",
    "\n",
    "    random_weights.append(weights)\n",
    "\n",
    "# index do melhor score\n",
    "idx = np.argmax(weighted_f1)\n",
    "weights = random_weights[idx]\n",
    "\n",
    "print('best weight f1 =', weighted_f1[idx])\n",
    "print('weights')\n",
    "print(weights)"
   ]
  },
  {
   "cell_type": "code",
   "execution_count": null,
   "metadata": {},
   "outputs": [],
   "source": [
    "cm = confusion_matrix(y_test, y_pred)\n",
    "cm_plot = ConfusionMatrixDisplay(cm, display_labels=loader.labels)\n",
    "cm_plot.plot(cmap='viridis_r');\n",
    "\n",
    "plt.title(f\"{field};\\n accuracy = \" \\\n",
    "        f\"{round(accuracy_score(y_test, y_pred), 2)}; \" \\\n",
    "        f\"weight f1 = \" \\\n",
    "        f\"{round(f1_score(y_test, y_pred, average='weighted'), 2)}\");"
   ]
  },
  {
   "cell_type": "markdown",
   "metadata": {},
   "source": [
    "# **VOTING DE CLASSIFICADORES JÁ TREINADOS**"
   ]
  },
  {
   "cell_type": "code",
   "execution_count": 19,
   "metadata": {},
   "outputs": [
    {
     "data": {
      "text/plain": [
       "array([0, 0, 0, 0, 0, 0, 0, 0, 0, 0, 0, 0, 0, 0, 0, 0, 0, 0, 0, 0, 0, 0,\n",
       "       0, 0, 0, 0, 0, 0, 0, 0, 0, 0, 0, 0, 0, 0, 0, 1, 1, 1, 1, 1, 4, 1,\n",
       "       1, 1, 1, 1, 0, 1, 1, 1, 1, 1, 1, 1, 1, 1, 1, 1, 1, 2, 0, 0, 0, 1,\n",
       "       0, 0, 0, 1, 0, 0, 0, 4, 4, 4, 4, 1, 4, 0, 4, 4, 4, 0, 0, 2, 0, 3,\n",
       "       3, 3, 1, 0, 0, 3, 0], dtype=int64)"
      ]
     },
     "execution_count": 19,
     "metadata": {},
     "output_type": "execute_result"
    }
   ],
   "source": [
    "y_pred = vote.hard_voting(args=list(preds.values()),\n",
    "                          weights=[1,1,1,1,1,1,1,1,1])\n",
    "\n",
    "y_pred"
   ]
  },
  {
   "cell_type": "code",
   "execution_count": 20,
   "metadata": {},
   "outputs": [
    {
     "name": "stdout",
     "output_type": "stream",
     "text": [
      "              precision    recall  f1-score   support\n",
      "\n",
      "           0       0.65      1.00      0.79        35\n",
      "           1       0.81      0.84      0.82        25\n",
      "           2       0.50      0.08      0.13        13\n",
      "           3       1.00      0.40      0.57        10\n",
      "           4       0.89      0.67      0.76        12\n",
      "\n",
      "    accuracy                           0.73        95\n",
      "   macro avg       0.77      0.60      0.62        95\n",
      "weighted avg       0.74      0.73      0.68        95\n",
      "\n"
     ]
    }
   ],
   "source": [
    "print(classification_report(y_test, y_pred))"
   ]
  },
  {
   "cell_type": "markdown",
   "metadata": {},
   "source": [
    "# **VOTING DE STACKS JÁ TREINADAS**"
   ]
  },
  {
   "cell_type": "code",
   "execution_count": 14,
   "metadata": {},
   "outputs": [
    {
     "name": "stdout",
     "output_type": "stream",
     "text": [
      "              precision    recall  f1-score   support\n",
      "\n",
      "           0       0.73      0.94      0.83        35\n",
      "           1       0.78      0.84      0.81        25\n",
      "           2       0.86      0.46      0.60        13\n",
      "           3       0.75      0.60      0.67        10\n",
      "           4       1.00      0.67      0.80        12\n",
      "\n",
      "    accuracy                           0.78        95\n",
      "   macro avg       0.82      0.70      0.74        95\n",
      "weighted avg       0.80      0.78      0.77        95\n",
      "\n"
     ]
    },
    {
     "data": {
      "image/png": "[encoded data removed]",
      "text/plain": [
       "<Figure size 432x288 with 2 Axes>"
      ]
     },
     "metadata": {
      "needs_background": "light"
     },
     "output_type": "display_data"
    }
   ],
   "source": [
    "y_pred = vote.hard_voting(args=list(preds.values()),\n",
    "                          weights=[3,1,2])\n",
    "\n",
    "print(classification_report(y_test, y_pred))\n",
    "\n",
    "skplt.metrics.plot_confusion_matrix(\n",
    "    y_test, y_pred, cmap='viridis_r',\n",
    ");"
   ]
  },
  {
   "cell_type": "markdown",
   "metadata": {},
   "source": [
    "# **EXPLICABILIDADE (SHAP)**"
   ]
  },
  {
   "cell_type": "code",
   "execution_count": 28,
   "metadata": {},
   "outputs": [
    {
     "name": "stdout",
     "output_type": "stream",
     "text": [
      "              precision    recall  f1-score   support\n",
      "\n",
      "           0       0.61      0.97      0.75        35\n",
      "           1       0.72      0.84      0.78        25\n",
      "           2       1.00      0.08      0.14        13\n",
      "           3       1.00      0.40      0.57        10\n",
      "           4       1.00      0.42      0.59        12\n",
      "\n",
      "    accuracy                           0.68        95\n",
      "   macro avg       0.87      0.54      0.57        95\n",
      "weighted avg       0.78      0.68      0.63        95\n",
      "\n"
     ]
    },
    {
     "data": {
      "image/png": "[encoded data removed]",
      "text/plain": [
       "<Figure size 432x288 with 2 Axes>"
      ]
     },
     "metadata": {
      "needs_background": "light"
     },
     "output_type": "display_data"
    }
   ],
   "source": [
    "clf = LGBMClassifier()\n",
    "\n",
    "X_train = np.array(data['combination_hsv+lbp+hu']['train'])\n",
    "X_test = np.array(data['combination_hsv+lbp+hu']['test'])\n",
    "\n",
    "clf.fit(X_train, y_train)\n",
    "y_pred = clf.predict(X_test)\n",
    "\n",
    "print(classification_report(y_test, y_pred))\n",
    "\n",
    "skplt.metrics.plot_confusion_matrix(\n",
    "    y_test, y_pred, cmap='viridis_r',\n",
    ");"
   ]
  },
  {
   "cell_type": "code",
   "execution_count": 31,
   "metadata": {},
   "outputs": [],
   "source": [
    "explainer = shap.TreeExplainer(model=clf)\n",
    "shap_values = explainer.shap_values(X_train)"
   ]
  },
  {
   "cell_type": "code",
   "execution_count": 36,
   "metadata": {},
   "outputs": [
    {
     "data": {
      "image/png": "[encoded data removed]",
      "text/plain": [
       "<Figure size 576x684 with 1 Axes>"
      ]
     },
     "metadata": {
      "needs_background": "light"
     },
     "output_type": "display_data"
    }
   ],
   "source": [
    "shap.summary_plot(shap_values=shap_values, features=X_train);"
   ]
  }
 ],
 "metadata": {
  "kernelspec": {
   "display_name": "Python 3.9.8 64-bit",
   "language": "python",
   "name": "python3"
  },
  "language_info": {
   "codemirror_mode": {
    "name": "ipython",
    "version": 3
   },
   "file_extension": ".py",
   "mimetype": "text/x-python",
   "name": "python",
   "nbconvert_exporter": "python",
   "pygments_lexer": "ipython3",
   "version": "3.9.8"
  },
  "orig_nbformat": 4,
  "vscode": {
   "interpreter": {
    "hash": "949777d72b0d2535278d3dc13498b2535136f6dfe0678499012e853ee9abcab1"
   }
  }
 },
 "nbformat": 4,
 "nbformat_minor": 2
}
