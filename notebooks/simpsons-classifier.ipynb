{
 "cells": [
  {
   "cell_type": "code",
   "execution_count": 1,
   "metadata": {},
   "outputs": [],
   "source": [
    "import os\n",
    "import pickle\n",
    "\n",
    "import sys\n",
    "sys.path.append('..')\n",
    "\n",
    "import numpy as np\n",
    "\n",
    "from data_loader.load_data import ImagesLoader\n",
    "\n",
    "from simpsons_classifier.simpsons_classifier import SimpsonsClassifier\n",
    "import simpsons_classifier.load_stacking_models as stack\n",
    "from simpsons_classifier.voter import Voter as vote\n",
    "\n",
    "from challenge.simpsons import *\n",
    "\n",
    "from utils.colors import Colors\n",
    "\n",
    "from sklearn.metrics import classification_report, \\\n",
    "                            confusion_matrix, \\\n",
    "                            ConfusionMatrixDisplay\n",
    "\n",
    "from sklearn.metrics import f1_score\n",
    "from skopt import gp_minimize\n",
    "from skopt.plots import plot_convergence"
   ]
  },
  {
   "cell_type": "code",
   "execution_count": 2,
   "metadata": {},
   "outputs": [],
   "source": [
    "import warnings\n",
    "warnings.filterwarnings('ignore')"
   ]
  },
  {
   "cell_type": "code",
   "execution_count": 3,
   "metadata": {},
   "outputs": [
    {
     "name": "stdout",
     "output_type": "stream",
     "text": [
      "3.9.8 (main, Nov 10 2021, 03:02:59) \n",
      "[GCC 10.2.1 20210110]\n"
     ]
    }
   ],
   "source": [
    "print(sys.version)"
   ]
  },
  {
   "cell_type": "markdown",
   "metadata": {},
   "source": [
    "# **CARREGANDO OS DADOS**"
   ]
  },
  {
   "cell_type": "code",
   "execution_count": 4,
   "metadata": {},
   "outputs": [],
   "source": [
    "# selecionando os dados desejados\n",
    "\n",
    "DATASET_NAME = 'simpsons-small-balanced'\n",
    "\n",
    "LOAD_FIELDS = [\n",
    "    'images_hsv',\n",
    "    'images_h',\n",
    "    'images_s',\n",
    "    'images_v',\n",
    "    'descriptor_h',\n",
    "    'descriptor_s',\n",
    "    'descriptor_v',\n",
    "    'descriptor_hsv',\n",
    "    'descriptor_hu',\n",
    "    'descriptor_lbp',\n",
    "    'combination_hsv+hu',\n",
    "    'combination_hsv+lbp+hu'\n",
    "]\n",
    "\n",
    "MODEL_FIELDS = [\n",
    "    'combination_hsv+hu',\n",
    "    'descriptor_hsv'\n",
    "]"
   ]
  },
  {
   "cell_type": "code",
   "execution_count": 5,
   "metadata": {},
   "outputs": [
    {
     "name": "stdout",
     "output_type": "stream",
     "text": [
      "\u001b[92m+\u001b[0m 'names_files' loaded\n",
      "\u001b[92m+\u001b[0m 'names_paths' loaded\n",
      "\u001b[92m+\u001b[0m 'names_characters' loaded\n",
      "\u001b[92m+\u001b[0m 'names_encoded' loaded\n",
      "\u001b[92m+\u001b[0m 'images_original' loaded\n",
      "\u001b[92m+\u001b[0m 'images_resized' loaded\n",
      "\u001b[92m+\u001b[0m 'images_gray' loaded\n",
      "\u001b[91m-\u001b[0m 'images_blue' not in load list\n",
      "\u001b[91m-\u001b[0m 'images_green' not in load list\n",
      "\u001b[91m-\u001b[0m 'images_red' not in load list\n",
      "\u001b[92m+\u001b[0m 'images_hsv' loaded\n",
      "\u001b[92m+\u001b[0m 'images_h' loaded\n",
      "\u001b[92m+\u001b[0m 'images_s' loaded\n",
      "\u001b[92m+\u001b[0m 'images_v' loaded\n",
      "\u001b[91m-\u001b[0m 'images_lbp' not in load list\n",
      "\u001b[91m-\u001b[0m 'images_hu' not in load list\n",
      "\u001b[91m-\u001b[0m 'images_gabor' not in load list\n",
      "\u001b[91m-\u001b[0m 'images_hog' not in load list\n",
      "\u001b[91m-\u001b[0m 'descriptor_blue' not in load list\n",
      "\u001b[91m-\u001b[0m 'descriptor_green' not in load list\n",
      "\u001b[91m-\u001b[0m 'descriptor_red' not in load list\n",
      "\u001b[91m-\u001b[0m 'descriptor_rgb' not in load list\n",
      "\u001b[92m+\u001b[0m 'descriptor_h' loaded\n",
      "\u001b[92m+\u001b[0m 'descriptor_s' loaded\n",
      "\u001b[92m+\u001b[0m 'descriptor_v' loaded\n",
      "\u001b[92m+\u001b[0m 'descriptor_hsv' loaded\n",
      "\u001b[92m+\u001b[0m 'descriptor_lbp' loaded\n",
      "\u001b[92m+\u001b[0m 'descriptor_hu' loaded\n",
      "\u001b[91m-\u001b[0m 'descriptor_gabor' not in load list\n",
      "\u001b[91m-\u001b[0m 'descriptor_hog' not in load list\n",
      "\u001b[91m-\u001b[0m 'combination_rgb+hsv' not in load list\n",
      "\u001b[91m-\u001b[0m 'combination_rgb+hsv+lbp' not in load list\n",
      "\u001b[91m-\u001b[0m 'combination_rgb+hsv+hu' not in load list\n",
      "\u001b[91m-\u001b[0m 'combination_rgb+hsv+hog' not in load list\n",
      "\u001b[91m-\u001b[0m 'combination_rgb+hsv+lbp+hu' not in load list\n",
      "\u001b[91m-\u001b[0m 'combination_rgb+hsv+lbp+hog' not in load list\n",
      "\u001b[91m-\u001b[0m 'combination_rgb+hsv+hu+hog' not in load list\n",
      "\u001b[91m-\u001b[0m 'combination_rgb+hsv+lbp+hu+hog' not in load list\n",
      "\u001b[91m-\u001b[0m 'combination_rgb+lbp' not in load list\n",
      "\u001b[91m-\u001b[0m 'combination_rgb+hu' not in load list\n",
      "\u001b[91m-\u001b[0m 'combination_rgb+hog' not in load list\n",
      "\u001b[91m-\u001b[0m 'combination_rgb+lbp+hu' not in load list\n",
      "\u001b[91m-\u001b[0m 'combination_rgb+lbp+hog' not in load list\n",
      "\u001b[91m-\u001b[0m 'combination_rgb+hu+hog' not in load list\n",
      "\u001b[91m-\u001b[0m 'combination_rgb+lbp+hu+hog' not in load list\n",
      "\u001b[91m-\u001b[0m 'combination_hsv+lbp' not in load list\n",
      "\u001b[92m+\u001b[0m 'combination_hsv+hu' loaded\n",
      "\u001b[91m-\u001b[0m 'combination_hsv+hog' not in load list\n",
      "\u001b[92m+\u001b[0m 'combination_hsv+lbp+hu' loaded\n",
      "\u001b[91m-\u001b[0m 'combination_hsv+lbp+hog' not in load list\n",
      "\u001b[91m-\u001b[0m 'combination_hsv+hu+hog' not in load list\n",
      "\u001b[91m-\u001b[0m 'combination_hsv+lbp+hu+hog' not in load list\n"
     ]
    }
   ],
   "source": [
    "# carregando os dados\n",
    "\n",
    "loader = ImagesLoader(train_images_path=f'../data/{DATASET_NAME}/train/',\n",
    "                      test_images_path=f'../data/{DATASET_NAME}/test/')\n",
    "\n",
    "data = loader.load_data(load_list=LOAD_FIELDS)\n",
    "\n",
    "# with open(f'../data/{DATASET_NAME}/{DATASET_NAME}.pkl', 'rb') as infile:\n",
    "#     data = pickle.load(infile)"
   ]
  },
  {
   "cell_type": "code",
   "execution_count": 6,
   "metadata": {},
   "outputs": [
    {
     "name": "stdout",
     "output_type": "stream",
     "text": [
      "names_characters\n",
      "(324,) (95,)\n",
      "\n",
      "combination_hsv+hu shape = (324, 775) (95, 775)\n",
      "descriptor_hsv shape = (324, 768) (95, 768)\n"
     ]
    }
   ],
   "source": [
    "# shape dos dados\n",
    "\n",
    "print('names_characters')\n",
    "print(np.array(data['names_characters']['train']).shape,\n",
    "      np.array(data['names_characters']['test']).shape, end='\\n\\n')\n",
    "\n",
    "for field in MODEL_FIELDS:\n",
    "      print(f'{field} shape =',\n",
    "            np.array(data[field]['train']).shape,\n",
    "            np.array(data[field]['test']).shape)"
   ]
  },
  {
   "cell_type": "markdown",
   "metadata": {},
   "source": [
    "# **CARREGANDO NOMES DOS ARQUIVOS**"
   ]
  },
  {
   "cell_type": "code",
   "execution_count": 7,
   "metadata": {},
   "outputs": [
    {
     "name": "stdout",
     "output_type": "stream",
     "text": [
      "(324,) (324,)\n",
      "(95,) (95,)\n"
     ]
    }
   ],
   "source": [
    "# os arquivos carregados pela função 'load_data'\n",
    "# são os mesmos de 'train.txt' e 'test.txt'?\n",
    "\n",
    "# carregando os dados dos txts\n",
    "\n",
    "X_train_files, y_train_files = load_train_data('../challenge/train.txt')\n",
    "X_test_files, y_test_files = load_test_data('../challenge/test.txt')\n",
    "\n",
    "print(X_train_files.shape, y_train_files.shape)\n",
    "print(X_test_files.shape, y_test_files.shape)"
   ]
  },
  {
   "cell_type": "code",
   "execution_count": 8,
   "metadata": {},
   "outputs": [
    {
     "name": "stdout",
     "output_type": "stream",
     "text": [
      "True\n",
      "True\n",
      "True\n",
      "True\n"
     ]
    }
   ],
   "source": [
    "# os dados carregados dos arquivos são iguais aos\n",
    "# carregados pela função\n",
    "\n",
    "print(all(data['names_paths']['train'] == X_train_files))\n",
    "print(all(data['names_paths']['test'] == X_test_files))\n",
    "\n",
    "print(all(data['names_encoded']['train'] == y_train_files))\n",
    "print(all(data['names_encoded']['test'] == y_test_files))"
   ]
  },
  {
   "cell_type": "markdown",
   "metadata": {},
   "source": [
    "# **TRAIN-TEST SPLIT**"
   ]
  },
  {
   "cell_type": "code",
   "execution_count": 9,
   "metadata": {},
   "outputs": [],
   "source": [
    "# train-test split\n",
    "\n",
    "X_train = [data[field]['train'] for field in MODEL_FIELDS]\n",
    "y_train = data['names_encoded']['train']\n",
    "\n",
    "X_test = [data[field]['test'] for field in MODEL_FIELDS]\n",
    "y_test = data['names_encoded']['test']"
   ]
  },
  {
   "cell_type": "markdown",
   "metadata": {},
   "source": [
    "# **CRIANDO O MODELO**"
   ]
  },
  {
   "cell_type": "code",
   "execution_count": 10,
   "metadata": {},
   "outputs": [
    {
     "data": {
      "text/plain": [
       "['combination_hsv+hu', 'descriptor_hsv']"
      ]
     },
     "execution_count": 10,
     "metadata": {},
     "output_type": "execute_result"
    }
   ],
   "source": [
    "# carregando modelos instanciados\n",
    "\n",
    "stacks = stack.load_stacking_models(fields=MODEL_FIELDS)\n",
    "\n",
    "# cada campo representa uma stack\n",
    "list(stacks.keys())"
   ]
  },
  {
   "cell_type": "code",
   "execution_count": 11,
   "metadata": {},
   "outputs": [],
   "source": [
    "# criação e treinamento do modelo\n",
    "\n",
    "simp = SimpsonsClassifier(stack_models=stacks)\n",
    "simp.fit(X_train, y_train)\n",
    "\n",
    "preds = simp.predict(X_test)\n",
    "preds_proba = simp.predict_proba(X_test)"
   ]
  },
  {
   "cell_type": "code",
   "execution_count": 12,
   "metadata": {},
   "outputs": [],
   "source": [
    "# # save model to disk\n",
    "\n",
    "# SimpsonsClassifier.save_model_to_disk(\n",
    "#     model=simp,\n",
    "#     path='../simpsons_classifier/',\n",
    "#     filename='simpsons_classifier.sav'\n",
    "# )"
   ]
  },
  {
   "cell_type": "code",
   "execution_count": 29,
   "metadata": {},
   "outputs": [],
   "source": [
    "# carregando modelo do disco\n",
    "\n",
    "simp_loaded = SimpsonsClassifier.load_model_from_disk(\n",
    "    path='../simpsons_classifier/simpsons_classifier.sav'\n",
    ")"
   ]
  },
  {
   "cell_type": "code",
   "execution_count": null,
   "metadata": {},
   "outputs": [],
   "source": [
    "# otimização nos pesos\n",
    "weights, weighted_f1 = vote.hard_voting_random_optimization(\n",
    "    preds=preds,\n",
    "    y_test=y_test,\n",
    "    n=10000,\n",
    "    verbose=True\n",
    ")"
   ]
  },
  {
   "cell_type": "code",
   "execution_count": 52,
   "metadata": {},
   "outputs": [
    {
     "name": "stdout",
     "output_type": "stream",
     "text": [
      "weight f1 = 0.7809368191721133\n",
      "[[1 1 4]\n",
      " [4 3 3]\n",
      " [3 2 1]\n",
      " [2 3 4]\n",
      " [1 2 3]]\n"
     ]
    },
    {
     "data": {
      "image/png": "[encoded data removed]",
      "text/plain": [
       "<Figure size 640x480 with 1 Axes>"
      ]
     },
     "metadata": {},
     "output_type": "display_data"
    }
   ],
   "source": [
    "def vote_predict(params):\n",
    "    weights = np.array(params).reshape(5,3)\n",
    "    weights = weights.tolist()\n",
    "\n",
    "    y_pred = vote.hard_voting(list(preds.values()),\n",
    "                              weights=weights)\n",
    "\n",
    "    f1 = f1_score(y_test, y_pred, average='weighted')\n",
    "\n",
    "    return -f1\n",
    "\n",
    "space = [[1, 4] for i in range(15)]\n",
    "\n",
    "# gaussian process optimization\n",
    "result = gp_minimize(\n",
    "    vote_predict,\n",
    "    space,\n",
    "    random_state=42,\n",
    "    verbose=0,\n",
    "    n_calls=300,\n",
    "    n_random_starts=10\n",
    ")\n",
    "\n",
    "print('weight f1 =', abs(result.fun))\n",
    "print(np.array(result.x).reshape(5,3))\n",
    "\n",
    "plot_convergence(result);"
   ]
  },
  {
   "cell_type": "code",
   "execution_count": 55,
   "metadata": {},
   "outputs": [],
   "source": [
    "# pesos para cada campo e cada classe\n",
    "# caso não deseje rodar a otimização\n",
    "\n",
    "weights = [[1, 1, 4],\n",
    "           [4, 3, 3],\n",
    "           [3, 2, 1],\n",
    "           [2, 3, 4],\n",
    "           [1, 2, 3]]"
   ]
  },
  {
   "cell_type": "code",
   "execution_count": 56,
   "metadata": {},
   "outputs": [
    {
     "data": {
      "text/plain": [
       "array([0, 0, 0, 0, 0, 0, 0, 2, 1, 0, 0, 0, 0, 0, 0, 0, 0, 0, 0, 0, 0, 0,\n",
       "       0, 0, 0, 0, 0, 0, 0, 0, 0, 0, 0, 0, 0, 1, 0, 1, 1, 1, 1, 1, 0, 1,\n",
       "       1, 1, 1, 1, 0, 1, 1, 1, 1, 1, 1, 1, 1, 1, 1, 1, 2, 2, 0, 2, 0, 1,\n",
       "       0, 2, 2, 1, 1, 2, 2, 2, 4, 2, 4, 1, 4, 4, 4, 4, 2, 0, 0, 3, 3, 3,\n",
       "       3, 3, 1, 3, 3, 1, 0])"
      ]
     },
     "execution_count": 56,
     "metadata": {},
     "output_type": "execute_result"
    }
   ],
   "source": [
    "# realizando uma votação entre as três\n",
    "# listas de predições distintas de cada stack\n",
    "\n",
    "y_pred = vote.hard_voting(list(preds.values()),\n",
    "                          weights=weights)\n",
    "\n",
    "# y_pred = vote.soft_voting(list(preds.values()))\n",
    "\n",
    "y_pred"
   ]
  },
  {
   "cell_type": "code",
   "execution_count": 57,
   "metadata": {},
   "outputs": [
    {
     "name": "stdout",
     "output_type": "stream",
     "text": [
      "              precision    recall  f1-score   support\n",
      "\n",
      "           0       0.79      0.94      0.86        35\n",
      "           1       0.76      0.88      0.81        25\n",
      "           2       0.64      0.54      0.58        13\n",
      "           3       1.00      0.70      0.82        10\n",
      "           4       1.00      0.50      0.67        12\n",
      "\n",
      "    accuracy                           0.79        95\n",
      "   macro avg       0.84      0.71      0.75        95\n",
      "weighted avg       0.81      0.79      0.78        95\n",
      "\n"
     ]
    },
    {
     "data": {
      "image/png": "[encoded data removed]",
      "text/plain": [
       "<Figure size 640x480 with 2 Axes>"
      ]
     },
     "metadata": {},
     "output_type": "display_data"
    }
   ],
   "source": [
    "# resultados\n",
    "\n",
    "print(classification_report(y_test, y_pred))\n",
    "\n",
    "cm = confusion_matrix(y_test, y_pred)\n",
    "cm_plot = ConfusionMatrixDisplay(cm, display_labels=loader.labels)\n",
    "cm_plot.plot(cmap='viridis_r');"
   ]
  },
  {
   "cell_type": "markdown",
   "metadata": {},
   "source": [
    "# **LENDO O ARQUIVO DE PREDIÇÕES**"
   ]
  },
  {
   "cell_type": "code",
   "execution_count": 59,
   "metadata": {},
   "outputs": [
    {
     "data": {
      "text/plain": [
       "array([0, 0, 0, 0, 0, 0, 0, 2, 1, 0, 0, 0, 0, 0, 0, 0, 0, 0, 0, 0, 0, 0,\n",
       "       0, 0, 0, 0, 0, 0, 0, 0, 0, 0, 0, 0, 0, 1, 0, 1, 1, 1, 1, 1, 0, 1,\n",
       "       1, 1, 1, 1, 0, 1, 1, 1, 1, 1, 1, 1, 1, 1, 1, 1, 2, 2, 0, 2, 0, 1,\n",
       "       0, 2, 2, 1, 1, 2, 2, 2, 4, 2, 4, 1, 4, 4, 4, 4, 2, 0, 0, 3, 3, 3,\n",
       "       3, 3, 1, 3, 3, 1, 0])"
      ]
     },
     "execution_count": 59,
     "metadata": {},
     "output_type": "execute_result"
    }
   ],
   "source": [
    "# lendo o arquivo de predições\n",
    "# e conferindo os resultados\n",
    "\n",
    "with open('../challenge/output.txt', 'r') as f:\n",
    "    fpreds = f.read()\n",
    "    fpreds = fpreds.strip()\n",
    "    fpreds = fpreds.split('\\n')\n",
    "    fpreds = np.array([int(i.split(' ')[1]) for i in fpreds])\n",
    "\n",
    "fpreds"
   ]
  },
  {
   "cell_type": "code",
   "execution_count": 60,
   "metadata": {},
   "outputs": [
    {
     "name": "stdout",
     "output_type": "stream",
     "text": [
      "              precision    recall  f1-score   support\n",
      "\n",
      "           0       0.79      0.94      0.86        35\n",
      "           1       0.76      0.88      0.81        25\n",
      "           2       0.64      0.54      0.58        13\n",
      "           3       1.00      0.70      0.82        10\n",
      "           4       1.00      0.50      0.67        12\n",
      "\n",
      "    accuracy                           0.79        95\n",
      "   macro avg       0.84      0.71      0.75        95\n",
      "weighted avg       0.81      0.79      0.78        95\n",
      "\n"
     ]
    },
    {
     "data": {
      "image/png": "[encoded data removed]",
      "text/plain": [
       "<Figure size 640x480 with 2 Axes>"
      ]
     },
     "metadata": {},
     "output_type": "display_data"
    }
   ],
   "source": [
    "print(classification_report(y_test, fpreds))\n",
    "\n",
    "cm = confusion_matrix(y_test, fpreds)\n",
    "cm_plot = ConfusionMatrixDisplay(cm, display_labels=loader.labels)\n",
    "cm_plot.plot(cmap='viridis_r');"
   ]
  },
  {
   "cell_type": "code",
   "execution_count": 61,
   "metadata": {},
   "outputs": [
    {
     "name": "stdout",
     "output_type": "stream",
     "text": [
      "True\n",
      "percentual igual = 1.0\n"
     ]
    },
    {
     "data": {
      "text/plain": [
       "array([ True,  True,  True,  True,  True,  True,  True,  True,  True,\n",
       "        True,  True,  True,  True,  True,  True,  True,  True,  True,\n",
       "        True,  True,  True,  True,  True,  True,  True,  True,  True,\n",
       "        True,  True,  True,  True,  True,  True,  True,  True,  True,\n",
       "        True,  True,  True,  True,  True,  True,  True,  True,  True,\n",
       "        True,  True,  True,  True,  True,  True,  True,  True,  True,\n",
       "        True,  True,  True,  True,  True,  True,  True,  True,  True,\n",
       "        True,  True,  True,  True,  True,  True,  True,  True,  True,\n",
       "        True,  True,  True,  True,  True,  True,  True,  True,  True,\n",
       "        True,  True,  True,  True,  True,  True,  True,  True,  True,\n",
       "        True,  True,  True,  True,  True])"
      ]
     },
     "execution_count": 61,
     "metadata": {},
     "output_type": "execute_result"
    }
   ],
   "source": [
    "# as predições geradas são iguais às do arquivo txt?\n",
    "\n",
    "print(all(y_pred == fpreds))\n",
    "\n",
    "print('percentual igual =',\n",
    "      np.count_nonzero(y_pred == fpreds) / len(y_pred == fpreds))\n",
    "\n",
    "y_pred == fpreds"
   ]
  },
  {
   "cell_type": "markdown",
   "metadata": {},
   "source": [
    "# **VALIDANDO O ARQUIVO DE PREDIÇÕES DE OUTRA FORMA**"
   ]
  },
  {
   "cell_type": "code",
   "execution_count": 62,
   "metadata": {},
   "outputs": [
    {
     "data": {
      "text/plain": [
       "['../data/simpsons-small-balanced/test/bart081.bmp 0',\n",
       " '../data/simpsons-small-balanced/test/bart082.bmp 0',\n",
       " '../data/simpsons-small-balanced/test/bart083.bmp 0',\n",
       " '../data/simpsons-small-balanced/test/bart084.bmp 0',\n",
       " '../data/simpsons-small-balanced/test/bart085.bmp 0']"
      ]
     },
     "execution_count": 62,
     "metadata": {},
     "output_type": "execute_result"
    }
   ],
   "source": [
    "with open('../challenge/output.txt', 'r') as f:\n",
    "    output = f.read()\n",
    "    output = output.strip()\n",
    "    output = output.split('\\n')\n",
    "\n",
    "output[:5]"
   ]
  },
  {
   "cell_type": "code",
   "execution_count": 63,
   "metadata": {},
   "outputs": [
    {
     "data": {
      "text/plain": [
       "0.7894736842105263"
      ]
     },
     "execution_count": 63,
     "metadata": {},
     "output_type": "execute_result"
    }
   ],
   "source": [
    "# percentual (acurácia) de casos\n",
    "# onde o encode é igual ao nome\n",
    "# real do personagem\n",
    "\n",
    "classes = {\n",
    "    0: 'bart',\n",
    "    1: 'homer',\n",
    "    2: 'lisa',\n",
    "    3: 'marge',\n",
    "    4: 'maggie'\n",
    "}\n",
    "\n",
    "# acurácia obtida\n",
    "\n",
    "sum(\n",
    "    [1 if classes[int(line.split(' ')[1])] \\\n",
    "          in line.split('/')[4].split('.')[0] \\\n",
    "       else 0 for line in output]\n",
    ") / len(output)"
   ]
  },
  {
   "cell_type": "markdown",
   "metadata": {},
   "source": [
    "# **VALIDANDO OS DADOS CARREGADOS**"
   ]
  },
  {
   "cell_type": "code",
   "execution_count": 23,
   "metadata": {},
   "outputs": [],
   "source": [
    "with open(f'../data/{DATASET_NAME}/{DATASET_NAME}.pkl', 'rb') as infile:\n",
    "    data_loaded = pickle.load(infile)"
   ]
  },
  {
   "cell_type": "code",
   "execution_count": 24,
   "metadata": {},
   "outputs": [
    {
     "name": "stdout",
     "output_type": "stream",
     "text": [
      "erro\n",
      "erro\n",
      "validado!\n"
     ]
    }
   ],
   "source": [
    "for field in ['train', 'test']:\n",
    "    for x, y in zip(data['combination_hsv+hu'][field],\n",
    "                    data_loaded['combination_hsv+hu'][field]):\n",
    "        if all(x == y):\n",
    "            continue\n",
    "        else:\n",
    "            print('erro')\n",
    "            break\n",
    "\n",
    "print('validado!')"
   ]
  },
  {
   "cell_type": "code",
   "execution_count": 25,
   "metadata": {},
   "outputs": [
    {
     "name": "stdout",
     "output_type": "stream",
     "text": [
      "validado!\n"
     ]
    }
   ],
   "source": [
    "for field in ['train', 'test']:\n",
    "    for x, y in zip(data['descriptor_hsv'][field],\n",
    "                    data_loaded['descriptor_hsv'][field]):\n",
    "        if all(x == y):\n",
    "            continue\n",
    "        else:\n",
    "            print('erro')\n",
    "            break\n",
    "\n",
    "print('validado!')"
   ]
  },
  {
   "cell_type": "markdown",
   "metadata": {},
   "source": [
    "# **OCORREU DATA LEAKAGE?**"
   ]
  },
  {
   "cell_type": "code",
   "execution_count": 26,
   "metadata": {},
   "outputs": [],
   "source": [
    "# existe alguma imagem de teste em treino?\n",
    "# avaliando o nome das imagens\n",
    "\n",
    "for train_file in data['names_files']['train']:\n",
    "    for test_file in data['names_files']['test']:\n",
    "        if train_file == test_file:\n",
    "            print(train_file)"
   ]
  },
  {
   "cell_type": "code",
   "execution_count": 27,
   "metadata": {},
   "outputs": [],
   "source": [
    "# existe alguma imagem de teste em treino?\n",
    "# avaliando a matriz das imagens\n",
    "\n",
    "for train_img in data['images_gray']['train']:\n",
    "    for test_img in data['images_gray']['test']:\n",
    "        if all(train_img.ravel() == test_img.ravel()):\n",
    "            print(train_img)"
   ]
  }
 ],
 "metadata": {
  "kernelspec": {
   "display_name": "Python 3.9.7 ('base')",
   "language": "python",
   "name": "python3"
  },
  "language_info": {
   "codemirror_mode": {
    "name": "ipython",
    "version": 3
   },
   "file_extension": ".py",
   "mimetype": "text/x-python",
   "name": "python",
   "nbconvert_exporter": "python",
   "pygments_lexer": "ipython3",
   "version": "3.9.7"
  },
  "orig_nbformat": 4,
  "vscode": {
   "interpreter": {
    "hash": "30f07e33239fa8282e26e15725321d07a8b0c67c5d45bbf6a7e3668dfd7ffdbf"
   }
  }
 },
 "nbformat": 4,
 "nbformat_minor": 2
}
