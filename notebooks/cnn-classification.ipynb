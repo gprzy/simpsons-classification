{
 "cells": [
  {
   "cell_type": "code",
   "execution_count": 1,
   "metadata": {},
   "outputs": [],
   "source": [
    "import sys\n",
    "sys.path.append('..')\n",
    "\n",
    "import numpy as np\n",
    "import pandas as pd\n",
    "\n",
    "import matplotlib.pyplot as plt\n",
    "\n",
    "from data_loader.load_data import ImagesLoader\n",
    "\n",
    "from sklearn.preprocessing import MinMaxScaler\n",
    "\n",
    "from sklearn.metrics import classification_report, \\\n",
    "                            confusion_matrix, \\\n",
    "                            ConfusionMatrixDisplay\n",
    "\n",
    "from keras.models import Sequential\n",
    "from keras.layers import Dense, Flatten\n",
    "from keras.layers.convolutional import Conv2D, MaxPooling2D\n",
    "from keras.callbacks import EarlyStopping"
   ]
  },
  {
   "cell_type": "code",
   "execution_count": 2,
   "metadata": {},
   "outputs": [],
   "source": [
    "import warnings\n",
    "warnings.filterwarnings('ignore')"
   ]
  },
  {
   "cell_type": "markdown",
   "metadata": {},
   "source": [
    "# **CARREGANDO OS DADOS**"
   ]
  },
  {
   "cell_type": "code",
   "execution_count": 7,
   "metadata": {},
   "outputs": [
    {
     "name": "stdout",
     "output_type": "stream",
     "text": [
      "\u001b[92m+\u001b[0m 'names_files' loaded\n",
      "\u001b[92m+\u001b[0m 'names_paths' loaded\n",
      "\u001b[92m+\u001b[0m 'names_characters' loaded\n",
      "\u001b[92m+\u001b[0m 'names_encoded' loaded\n",
      "\u001b[92m+\u001b[0m 'images_original' loaded\n",
      "\u001b[92m+\u001b[0m 'images_resized' loaded\n",
      "\u001b[92m+\u001b[0m 'images_gray' loaded\n",
      "\u001b[92m+\u001b[0m 'images_blue' loaded\n",
      "\u001b[92m+\u001b[0m 'images_green' loaded\n",
      "\u001b[92m+\u001b[0m 'images_red' loaded\n",
      "\u001b[92m+\u001b[0m 'images_hsv' loaded\n",
      "\u001b[92m+\u001b[0m 'images_h' loaded\n",
      "\u001b[92m+\u001b[0m 'images_s' loaded\n",
      "\u001b[92m+\u001b[0m 'images_v' loaded\n",
      "\u001b[92m+\u001b[0m 'images_lbp' loaded\n",
      "\u001b[92m+\u001b[0m 'images_hu' loaded\n",
      "\u001b[92m+\u001b[0m 'images_gabor' loaded\n",
      "\u001b[92m+\u001b[0m 'images_hog' loaded\n",
      "\u001b[92m+\u001b[0m 'descriptor_blue' loaded\n",
      "\u001b[92m+\u001b[0m 'descriptor_green' loaded\n",
      "\u001b[92m+\u001b[0m 'descriptor_red' loaded\n",
      "\u001b[92m+\u001b[0m 'descriptor_rgb' loaded\n",
      "\u001b[92m+\u001b[0m 'descriptor_h' loaded\n",
      "\u001b[92m+\u001b[0m 'descriptor_s' loaded\n",
      "\u001b[92m+\u001b[0m 'descriptor_v' loaded\n",
      "\u001b[92m+\u001b[0m 'descriptor_hsv' loaded\n",
      "\u001b[92m+\u001b[0m 'descriptor_lbp' loaded\n",
      "\u001b[92m+\u001b[0m 'descriptor_hu' loaded\n",
      "\u001b[92m+\u001b[0m 'descriptor_gabor' loaded\n",
      "\u001b[92m+\u001b[0m 'descriptor_hog' loaded\n",
      "\u001b[92m+\u001b[0m 'combination_rgb+hsv' loaded\n",
      "\u001b[92m+\u001b[0m 'combination_rgb+hsv+lbp' loaded\n",
      "\u001b[92m+\u001b[0m 'combination_rgb+hsv+hu' loaded\n",
      "\u001b[92m+\u001b[0m 'combination_rgb+hsv+hog' loaded\n",
      "\u001b[92m+\u001b[0m 'combination_rgb+hsv+lbp+hu' loaded\n",
      "\u001b[92m+\u001b[0m 'combination_rgb+hsv+lbp+hog' loaded\n",
      "\u001b[92m+\u001b[0m 'combination_rgb+hsv+hu+hog' loaded\n",
      "\u001b[92m+\u001b[0m 'combination_rgb+hsv+lbp+hu+hog' loaded\n",
      "\u001b[92m+\u001b[0m 'combination_rgb+lbp' loaded\n",
      "\u001b[92m+\u001b[0m 'combination_rgb+hu' loaded\n",
      "\u001b[92m+\u001b[0m 'combination_rgb+hog' loaded\n",
      "\u001b[92m+\u001b[0m 'combination_rgb+lbp+hu' loaded\n",
      "\u001b[92m+\u001b[0m 'combination_rgb+lbp+hog' loaded\n",
      "\u001b[92m+\u001b[0m 'combination_rgb+hu+hog' loaded\n",
      "\u001b[92m+\u001b[0m 'combination_rgb+lbp+hu+hog' loaded\n",
      "\u001b[92m+\u001b[0m 'combination_hsv+lbp' loaded\n",
      "\u001b[92m+\u001b[0m 'combination_hsv+hu' loaded\n",
      "\u001b[92m+\u001b[0m 'combination_hsv+hog' loaded\n",
      "\u001b[92m+\u001b[0m 'combination_hsv+lbp+hu' loaded\n",
      "\u001b[92m+\u001b[0m 'combination_hsv+lbp+hog' loaded\n",
      "\u001b[92m+\u001b[0m 'combination_hsv+hu+hog' loaded\n",
      "\u001b[92m+\u001b[0m 'combination_hsv+lbp+hu+hog' loaded\n"
     ]
    }
   ],
   "source": [
    "loader = ImagesLoader(train_images_path='../data/simpsons-small-balanced/train/',\n",
    "                      test_images_path='../data/simpsons-small-balanced/test/')\n",
    "\n",
    "data = loader.load_data()"
   ]
  },
  {
   "cell_type": "code",
   "execution_count": 8,
   "metadata": {},
   "outputs": [
    {
     "name": "stdout",
     "output_type": "stream",
     "text": [
      "names_characters\n",
      "(324,) (95,)\n",
      "\n",
      "images_gray\n",
      "(324, 315, 390) (95, 315, 390)\n"
     ]
    }
   ],
   "source": [
    "print('names_characters')\n",
    "print(np.array(data['names_characters']['train']).shape,\n",
    "      np.array(data['names_characters']['test']).shape, end='\\n\\n')\n",
    "\n",
    "print('images_gray')\n",
    "print(np.array(data['images_gray']['train']).shape,\n",
    "      np.array(data['images_gray']['test']).shape)"
   ]
  },
  {
   "cell_type": "markdown",
   "metadata": {},
   "source": [
    "# **TRAIN-TEST SPLIT**"
   ]
  },
  {
   "cell_type": "code",
   "execution_count": 9,
   "metadata": {},
   "outputs": [
    {
     "data": {
      "text/plain": [
       "((324, 315, 390), (95, 315, 390))"
      ]
     },
     "execution_count": 9,
     "metadata": {},
     "output_type": "execute_result"
    }
   ],
   "source": [
    "X_train = np.array(data['images_gray']['train']).astype('float64')\n",
    "y_train = np.array(data['names_encoded']['train']).astype('float64')\n",
    "\n",
    "X_test = np.array(data['images_gray']['test']).astype('float64')\n",
    "y_test = np.array(data['names_encoded']['test']).astype('float64')\n",
    "\n",
    "X_train.shape, X_test.shape"
   ]
  },
  {
   "cell_type": "markdown",
   "metadata": {},
   "source": [
    "# **CRIAÇÃO E AVALIAÇÃO DO MODELO**"
   ]
  },
  {
   "cell_type": "code",
   "execution_count": 10,
   "metadata": {},
   "outputs": [],
   "source": [
    "from tensorflow.keras import datasets, layers, models, losses\n",
    "from tensorflow.keras.models import Model"
   ]
  },
  {
   "cell_type": "code",
   "execution_count": 12,
   "metadata": {},
   "outputs": [
    {
     "ename": "ValueError",
     "evalue": "Input 0 of layer \"conv2d_1\" is incompatible with the layer: expected min_ndim=4, found ndim=3. Full shape received: (None, 315, 390)",
     "output_type": "error",
     "traceback": [
      "\u001b[1;31m---------------------------------------------------------------------------\u001b[0m",
      "\u001b[1;31mValueError\u001b[0m                                Traceback (most recent call last)",
      "\u001b[1;32m~\\AppData\\Local\\Temp/ipykernel_21328/3912511459.py\u001b[0m in \u001b[0;36m<module>\u001b[1;34m\u001b[0m\n\u001b[0;32m      4\u001b[0m \u001b[0minput_img\u001b[0m \u001b[1;33m=\u001b[0m \u001b[0mlayers\u001b[0m\u001b[1;33m.\u001b[0m\u001b[0mInput\u001b[0m\u001b[1;33m(\u001b[0m\u001b[0mshape\u001b[0m\u001b[1;33m=\u001b[0m\u001b[0mshape\u001b[0m\u001b[1;33m)\u001b[0m\u001b[1;33m\u001b[0m\u001b[1;33m\u001b[0m\u001b[0m\n\u001b[0;32m      5\u001b[0m \u001b[1;33m\u001b[0m\u001b[0m\n\u001b[1;32m----> 6\u001b[1;33m \u001b[0mmodel\u001b[0m \u001b[1;33m=\u001b[0m \u001b[0mlayers\u001b[0m\u001b[1;33m.\u001b[0m\u001b[0mConv2D\u001b[0m\u001b[1;33m(\u001b[0m\u001b[0mfilters\u001b[0m\u001b[1;33m=\u001b[0m\u001b[1;36m96\u001b[0m\u001b[1;33m,\u001b[0m \u001b[0mkernel_size\u001b[0m\u001b[1;33m=\u001b[0m\u001b[1;33m(\u001b[0m\u001b[1;36m11\u001b[0m\u001b[1;33m,\u001b[0m\u001b[1;36m11\u001b[0m\u001b[1;33m)\u001b[0m\u001b[1;33m,\u001b[0m \u001b[0mstrides\u001b[0m\u001b[1;33m=\u001b[0m\u001b[1;33m(\u001b[0m\u001b[1;36m4\u001b[0m\u001b[1;33m,\u001b[0m\u001b[1;36m4\u001b[0m\u001b[1;33m)\u001b[0m\u001b[1;33m,\u001b[0m \u001b[0mactivation\u001b[0m\u001b[1;33m=\u001b[0m\u001b[1;34m'relu'\u001b[0m\u001b[1;33m)\u001b[0m\u001b[1;33m(\u001b[0m\u001b[0minput_img\u001b[0m\u001b[1;33m)\u001b[0m\u001b[1;33m\u001b[0m\u001b[1;33m\u001b[0m\u001b[0m\n\u001b[0m\u001b[0;32m      7\u001b[0m \u001b[0mmodel\u001b[0m \u001b[1;33m=\u001b[0m \u001b[0mlayers\u001b[0m\u001b[1;33m.\u001b[0m\u001b[0mBatchNormalization\u001b[0m\u001b[1;33m(\u001b[0m\u001b[1;33m)\u001b[0m\u001b[1;33m(\u001b[0m\u001b[0mmodel\u001b[0m\u001b[1;33m)\u001b[0m\u001b[1;33m\u001b[0m\u001b[1;33m\u001b[0m\u001b[0m\n\u001b[0;32m      8\u001b[0m \u001b[0mmodel\u001b[0m \u001b[1;33m=\u001b[0m \u001b[0mlayers\u001b[0m\u001b[1;33m.\u001b[0m\u001b[0mMaxPool2D\u001b[0m\u001b[1;33m(\u001b[0m\u001b[0mpool_size\u001b[0m\u001b[1;33m=\u001b[0m\u001b[1;33m(\u001b[0m\u001b[1;36m3\u001b[0m\u001b[1;33m,\u001b[0m\u001b[1;36m3\u001b[0m\u001b[1;33m)\u001b[0m\u001b[1;33m,\u001b[0m \u001b[0mstrides\u001b[0m\u001b[1;33m=\u001b[0m\u001b[1;33m(\u001b[0m\u001b[1;36m2\u001b[0m\u001b[1;33m,\u001b[0m\u001b[1;36m2\u001b[0m\u001b[1;33m)\u001b[0m\u001b[1;33m)\u001b[0m\u001b[1;33m(\u001b[0m\u001b[0mmodel\u001b[0m\u001b[1;33m)\u001b[0m\u001b[1;33m\u001b[0m\u001b[1;33m\u001b[0m\u001b[0m\n",
      "\u001b[1;32md:\\develop\\AnacondaNavigator\\lib\\site-packages\\keras\\utils\\traceback_utils.py\u001b[0m in \u001b[0;36merror_handler\u001b[1;34m(*args, **kwargs)\u001b[0m\n\u001b[0;32m     68\u001b[0m             \u001b[1;31m# To get the full stack trace, call:\u001b[0m\u001b[1;33m\u001b[0m\u001b[1;33m\u001b[0m\u001b[0m\n\u001b[0;32m     69\u001b[0m             \u001b[1;31m# `tf.debugging.disable_traceback_filtering()`\u001b[0m\u001b[1;33m\u001b[0m\u001b[1;33m\u001b[0m\u001b[0m\n\u001b[1;32m---> 70\u001b[1;33m             \u001b[1;32mraise\u001b[0m \u001b[0me\u001b[0m\u001b[1;33m.\u001b[0m\u001b[0mwith_traceback\u001b[0m\u001b[1;33m(\u001b[0m\u001b[0mfiltered_tb\u001b[0m\u001b[1;33m)\u001b[0m \u001b[1;32mfrom\u001b[0m \u001b[1;32mNone\u001b[0m\u001b[1;33m\u001b[0m\u001b[1;33m\u001b[0m\u001b[0m\n\u001b[0m\u001b[0;32m     71\u001b[0m         \u001b[1;32mfinally\u001b[0m\u001b[1;33m:\u001b[0m\u001b[1;33m\u001b[0m\u001b[1;33m\u001b[0m\u001b[0m\n\u001b[0;32m     72\u001b[0m             \u001b[1;32mdel\u001b[0m \u001b[0mfiltered_tb\u001b[0m\u001b[1;33m\u001b[0m\u001b[1;33m\u001b[0m\u001b[0m\n",
      "\u001b[1;32md:\\develop\\AnacondaNavigator\\lib\\site-packages\\keras\\engine\\input_spec.py\u001b[0m in \u001b[0;36massert_input_compatibility\u001b[1;34m(input_spec, inputs, layer_name)\u001b[0m\n\u001b[0;32m    248\u001b[0m             \u001b[0mndim\u001b[0m \u001b[1;33m=\u001b[0m \u001b[0mx\u001b[0m\u001b[1;33m.\u001b[0m\u001b[0mshape\u001b[0m\u001b[1;33m.\u001b[0m\u001b[0mrank\u001b[0m\u001b[1;33m\u001b[0m\u001b[1;33m\u001b[0m\u001b[0m\n\u001b[0;32m    249\u001b[0m             \u001b[1;32mif\u001b[0m \u001b[0mndim\u001b[0m \u001b[1;32mis\u001b[0m \u001b[1;32mnot\u001b[0m \u001b[1;32mNone\u001b[0m \u001b[1;32mand\u001b[0m \u001b[0mndim\u001b[0m \u001b[1;33m<\u001b[0m \u001b[0mspec\u001b[0m\u001b[1;33m.\u001b[0m\u001b[0mmin_ndim\u001b[0m\u001b[1;33m:\u001b[0m\u001b[1;33m\u001b[0m\u001b[1;33m\u001b[0m\u001b[0m\n\u001b[1;32m--> 250\u001b[1;33m                 raise ValueError(\n\u001b[0m\u001b[0;32m    251\u001b[0m                     \u001b[1;34mf'Input {input_index} of layer \"{layer_name}\" '\u001b[0m\u001b[1;33m\u001b[0m\u001b[1;33m\u001b[0m\u001b[0m\n\u001b[0;32m    252\u001b[0m                     \u001b[1;34m\"is incompatible with the layer: \"\u001b[0m\u001b[1;33m\u001b[0m\u001b[1;33m\u001b[0m\u001b[0m\n",
      "\u001b[1;31mValueError\u001b[0m: Input 0 of layer \"conv2d_1\" is incompatible with the layer: expected min_ndim=4, found ndim=3. Full shape received: (None, 315, 390)"
     ]
    }
   ],
   "source": [
    "shape = data['images_gray']['train'][0].shape\n",
    "N_CLASSES = 5\n",
    "\n",
    "input_img = layers.Input(shape=shape)\n",
    "\n",
    "model = layers.Conv2D(filters=96, kernel_size=(11,11), strides=(4,4), activation='relu')(input_img)\n",
    "model = layers.BatchNormalization()(model)\n",
    "model = layers.MaxPool2D(pool_size=(3,3), strides=(2,2))(model)\n",
    "model = layers.Conv2D(filters=256, kernel_size=(5,5), strides=(1,1), activation='relu', padding=\"same\")(model)\n",
    "model = layers.BatchNormalization()(model)\n",
    "model = layers.MaxPool2D(pool_size=(3,3), strides=(2,2))(model)\n",
    "model = layers.Conv2D(filters=384, kernel_size=(3,3), strides=(1,1), activation='relu', padding=\"same\")(model)\n",
    "model = layers.BatchNormalization()(model)\n",
    "model = layers.Conv2D(filters=384, kernel_size=(3,3), strides=(1,1), activation='relu', padding=\"same\")(model)\n",
    "model = layers.BatchNormalization()(model)\n",
    "model = layers.Conv2D(filters=256, kernel_size=(3,3), strides=(1,1), activation='relu', padding=\"same\")(model)\n",
    "model = layers.BatchNormalization()(model)\n",
    "model = layers.MaxPool2D(pool_size=(3,3), strides=(2,2))(model)\n",
    "\n",
    "model = layers.Flatten()(model)\n",
    "model = layers.Dense(4096, activation='relu')(model)\n",
    "model = layers.Dropout(0.5)(model)\n",
    "model = layers.Dense(4096, activation='relu')(model)\n",
    "model = layers.Dropout(0.5)(model)\n",
    "model = layers.Dense(N_CLASSES, activation='softmax')(model)\n",
    "model = Model(inputs=[input_img], outputs=[model])\n",
    "\n",
    "model.build((1, 315, 390))\n",
    "model.summary()\n",
    "model.compile(optimizer='adam', loss='sparse_categorical_crossentropy')"
   ]
  },
  {
   "cell_type": "code",
   "execution_count": 7,
   "metadata": {},
   "outputs": [
    {
     "name": "stdout",
     "output_type": "stream",
     "text": [
      "Epoch 1/80\n",
      "4/4 [==============================] - 3s 353ms/step - loss: 36963.6523\n",
      "Epoch 2/80\n",
      "4/4 [==============================] - 1s 362ms/step - loss: 50775.3594\n",
      "Epoch 3/80\n",
      "4/4 [==============================] - 1s 325ms/step - loss: 36513.1953\n",
      "Epoch 4/80\n",
      "4/4 [==============================] - 1s 323ms/step - loss: 27383.8516\n",
      "Epoch 5/80\n",
      "4/4 [==============================] - 1s 321ms/step - loss: 25841.9785\n",
      "Epoch 6/80\n",
      "4/4 [==============================] - 1s 327ms/step - loss: 22304.5449\n",
      "Epoch 7/80\n",
      "4/4 [==============================] - 1s 331ms/step - loss: 15507.2041\n",
      "Epoch 8/80\n",
      "4/4 [==============================] - 1s 325ms/step - loss: 8050.2466\n",
      "Epoch 9/80\n",
      "4/4 [==============================] - 1s 318ms/step - loss: 3831.4893\n",
      "Epoch 10/80\n",
      "4/4 [==============================] - 1s 311ms/step - loss: 3865.8093\n",
      "Epoch 11/80\n",
      "4/4 [==============================] - 1s 326ms/step - loss: 4790.1416\n"
     ]
    },
    {
     "data": {
      "text/plain": [
       "<keras.callbacks.History at 0x18f0e7501c0>"
      ]
     },
     "execution_count": 7,
     "metadata": {},
     "output_type": "execute_result"
    }
   ],
   "source": [
    "early_stopping = EarlyStopping(monitor='loss', patience=2)\n",
    "\n",
    "model.fit(\n",
    "    X_train,\n",
    "    y_train,\n",
    "    epochs=80,\n",
    "    batch_size=80,\n",
    "    callbacks=[early_stopping]\n",
    ")"
   ]
  },
  {
   "cell_type": "code",
   "execution_count": 8,
   "metadata": {},
   "outputs": [
    {
     "name": "stdout",
     "output_type": "stream",
     "text": [
      "4/4 [==============================] - 0s 42ms/step - loss: 5678.2305\n",
      "4/4 [==============================] - 0s 41ms/step\n"
     ]
    },
    {
     "data": {
      "text/plain": [
       "array([0., 0., 0., 1., 0., 0.], dtype=float32)"
      ]
     },
     "execution_count": 8,
     "metadata": {},
     "output_type": "execute_result"
    }
   ],
   "source": [
    "test_loss = model.evaluate(X_test, y_test)\n",
    "y_pred = model.predict(X_test)\n",
    "y_pred[0]"
   ]
  },
  {
   "cell_type": "code",
   "execution_count": 9,
   "metadata": {},
   "outputs": [],
   "source": [
    "decoded_labels = {value: key for value, key in zip(list(loader.encoded_labels.values()),\n",
    "                                                   list(loader.encoded_labels.keys()))}"
   ]
  },
  {
   "cell_type": "code",
   "execution_count": 10,
   "metadata": {},
   "outputs": [
    {
     "name": "stdout",
     "output_type": "stream",
     "text": [
      "              precision    recall  f1-score   support\n",
      "\n",
      "        bart       0.17      0.06      0.09        35\n",
      "      family       0.00      0.00      0.00        11\n",
      "       homer       0.00      0.00      0.00        25\n",
      "        lisa       0.13      0.92      0.22        13\n",
      "      maggie       0.00      0.00      0.00        12\n",
      "       marge       0.00      0.00      0.00        10\n",
      "\n",
      "    accuracy                           0.13       106\n",
      "   macro avg       0.05      0.16      0.05       106\n",
      "weighted avg       0.07      0.13      0.06       106\n",
      "\n"
     ]
    }
   ],
   "source": [
    "y_pred = np.array([np.argmax(i) for i in y_pred])\n",
    "\n",
    "print(classification_report([decoded_labels[i] for i in y_test],\n",
    "                            [decoded_labels[i] for i in y_pred]))"
   ]
  },
  {
   "cell_type": "code",
   "execution_count": 11,
   "metadata": {},
   "outputs": [
    {
     "data": {
      "image/png": "[encoded data removed]",
      "text/plain": [
       "<Figure size 432x288 with 2 Axes>"
      ]
     },
     "metadata": {
      "needs_background": "light"
     },
     "output_type": "display_data"
    }
   ],
   "source": [
    "cm = confusion_matrix(y_test, y_pred)\n",
    "cm_plot = ConfusionMatrixDisplay(cm, display_labels=loader.labels)\n",
    "cm_plot.plot(cmap='viridis_r');"
   ]
  }
 ],
 "metadata": {
  "kernelspec": {
   "display_name": "Python 3.9.7 ('base')",
   "language": "python",
   "name": "python3"
  },
  "language_info": {
   "codemirror_mode": {
    "name": "ipython",
    "version": 3
   },
   "file_extension": ".py",
   "mimetype": "text/x-python",
   "name": "python",
   "nbconvert_exporter": "python",
   "pygments_lexer": "ipython3",
   "version": "3.9.7"
  },
  "orig_nbformat": 4,
  "vscode": {
   "interpreter": {
    "hash": "30f07e33239fa8282e26e15725321d07a8b0c67c5d45bbf6a7e3668dfd7ffdbf"
   }
  }
 },
 "nbformat": 4,
 "nbformat_minor": 2
}
